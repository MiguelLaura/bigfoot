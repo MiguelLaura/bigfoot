{
 "cells": [
  {
   "cell_type": "code",
   "execution_count": 1,
   "id": "f544fb2d-3eae-4397-8f3d-e8d9ae763b61",
   "metadata": {
    "tags": []
   },
   "outputs": [],
   "source": [
    "import pandas as pd\n",
    "import numpy as np\n",
    "import seaborn as sns\n",
    "import matplotlib.pyplot as plt"
   ]
  },
  {
   "cell_type": "markdown",
   "id": "424e59de-ccb3-4bf8-a572-d747aa5148ba",
   "metadata": {},
   "source": [
    "# 0. Questions"
   ]
  },
  {
   "cell_type": "markdown",
   "id": "b3a3aa9a-d4d2-4254-b4fa-63fe25bc3829",
   "metadata": {},
   "source": [
    "Où vit bigfoot ? C'est-à-dire géographiquement (zone beaucoup de population, montagne, lac...), climatiquement (chaud, froid, pluit, neige, humide...)\n",
    "\n",
    "Qu'est-ce qui distingue les 3 classifications (A, B, C) ?"
   ]
  },
  {
   "cell_type": "markdown",
   "id": "14b60229-4286-423d-b337-66e877e1821f",
   "metadata": {},
   "source": [
    "# 2. Manipulation de données"
   ]
  },
  {
   "cell_type": "markdown",
   "id": "f946a233-1279-4166-ae5d-0b7c7411e532",
   "metadata": {},
   "source": [
    "## 2.1. Premier regard sur les données"
   ]
  },
  {
   "cell_type": "code",
   "execution_count": 2,
   "id": "d137f76d-984a-4702-a98c-4dcefeca6a3b",
   "metadata": {
    "tags": []
   },
   "outputs": [],
   "source": [
    "# X = pd.read_csv('https://raw.githubusercontent.com/rfordatascience/tidytuesday/master/data/2022/2022-09-13/bigfoot.csv')\n",
    "X = pd.read_csv('data/bigfoot.csv')"
   ]
  },
  {
   "cell_type": "code",
   "execution_count": 3,
   "id": "9bc97a3d-9daf-47ea-a484-b6c1abb78cc3",
   "metadata": {
    "tags": []
   },
   "outputs": [
    {
     "data": {
      "text/html": [
       "<div>\n",
       "<style scoped>\n",
       "    .dataframe tbody tr th:only-of-type {\n",
       "        vertical-align: middle;\n",
       "    }\n",
       "\n",
       "    .dataframe tbody tr th {\n",
       "        vertical-align: top;\n",
       "    }\n",
       "\n",
       "    .dataframe thead th {\n",
       "        text-align: right;\n",
       "    }\n",
       "</style>\n",
       "<table border=\"1\" class=\"dataframe\">\n",
       "  <thead>\n",
       "    <tr style=\"text-align: right;\">\n",
       "      <th></th>\n",
       "      <th>observed</th>\n",
       "      <th>location_details</th>\n",
       "      <th>county</th>\n",
       "      <th>state</th>\n",
       "      <th>season</th>\n",
       "      <th>title</th>\n",
       "      <th>latitude</th>\n",
       "      <th>longitude</th>\n",
       "      <th>date</th>\n",
       "      <th>number</th>\n",
       "      <th>...</th>\n",
       "      <th>moon_phase</th>\n",
       "      <th>precip_intensity</th>\n",
       "      <th>precip_probability</th>\n",
       "      <th>precip_type</th>\n",
       "      <th>pressure</th>\n",
       "      <th>summary</th>\n",
       "      <th>uv_index</th>\n",
       "      <th>visibility</th>\n",
       "      <th>wind_bearing</th>\n",
       "      <th>wind_speed</th>\n",
       "    </tr>\n",
       "  </thead>\n",
       "  <tbody>\n",
       "    <tr>\n",
       "      <th>0</th>\n",
       "      <td>I was canoeing on the Sipsey river in Alabama....</td>\n",
       "      <td>NaN</td>\n",
       "      <td>Winston County</td>\n",
       "      <td>Alabama</td>\n",
       "      <td>Summer</td>\n",
       "      <td>NaN</td>\n",
       "      <td>NaN</td>\n",
       "      <td>NaN</td>\n",
       "      <td>NaN</td>\n",
       "      <td>30680.0</td>\n",
       "      <td>...</td>\n",
       "      <td>NaN</td>\n",
       "      <td>NaN</td>\n",
       "      <td>NaN</td>\n",
       "      <td>NaN</td>\n",
       "      <td>NaN</td>\n",
       "      <td>NaN</td>\n",
       "      <td>NaN</td>\n",
       "      <td>NaN</td>\n",
       "      <td>NaN</td>\n",
       "      <td>NaN</td>\n",
       "    </tr>\n",
       "    <tr>\n",
       "      <th>1</th>\n",
       "      <td>Ed L. was salmon fishing with a companion in P...</td>\n",
       "      <td>East side of Prince William Sound</td>\n",
       "      <td>Valdez-Chitina-Whittier County</td>\n",
       "      <td>Alaska</td>\n",
       "      <td>Fall</td>\n",
       "      <td>NaN</td>\n",
       "      <td>NaN</td>\n",
       "      <td>NaN</td>\n",
       "      <td>NaN</td>\n",
       "      <td>1261.0</td>\n",
       "      <td>...</td>\n",
       "      <td>NaN</td>\n",
       "      <td>NaN</td>\n",
       "      <td>NaN</td>\n",
       "      <td>NaN</td>\n",
       "      <td>NaN</td>\n",
       "      <td>NaN</td>\n",
       "      <td>NaN</td>\n",
       "      <td>NaN</td>\n",
       "      <td>NaN</td>\n",
       "      <td>NaN</td>\n",
       "    </tr>\n",
       "    <tr>\n",
       "      <th>2</th>\n",
       "      <td>While attending U.R.I in the Fall of 1974,I wo...</td>\n",
       "      <td>Great swamp area, Narragansett Indians</td>\n",
       "      <td>Washington County</td>\n",
       "      <td>Rhode Island</td>\n",
       "      <td>Fall</td>\n",
       "      <td>Report 6496: Bicycling student has night encou...</td>\n",
       "      <td>41.45</td>\n",
       "      <td>-71.5</td>\n",
       "      <td>1974-09-20</td>\n",
       "      <td>6496.0</td>\n",
       "      <td>...</td>\n",
       "      <td>0.16</td>\n",
       "      <td>0.0</td>\n",
       "      <td>0.0</td>\n",
       "      <td>NaN</td>\n",
       "      <td>1020.61</td>\n",
       "      <td>Foggy until afternoon.</td>\n",
       "      <td>4.0</td>\n",
       "      <td>2.75</td>\n",
       "      <td>198.0</td>\n",
       "      <td>6.92</td>\n",
       "    </tr>\n",
       "    <tr>\n",
       "      <th>3</th>\n",
       "      <td>Hello, My name is Doug and though I am very re...</td>\n",
       "      <td>I would rather not have exact location (listin...</td>\n",
       "      <td>York County</td>\n",
       "      <td>Pennsylvania</td>\n",
       "      <td>Summer</td>\n",
       "      <td>NaN</td>\n",
       "      <td>NaN</td>\n",
       "      <td>NaN</td>\n",
       "      <td>NaN</td>\n",
       "      <td>8000.0</td>\n",
       "      <td>...</td>\n",
       "      <td>NaN</td>\n",
       "      <td>NaN</td>\n",
       "      <td>NaN</td>\n",
       "      <td>NaN</td>\n",
       "      <td>NaN</td>\n",
       "      <td>NaN</td>\n",
       "      <td>NaN</td>\n",
       "      <td>NaN</td>\n",
       "      <td>NaN</td>\n",
       "      <td>NaN</td>\n",
       "    </tr>\n",
       "    <tr>\n",
       "      <th>4</th>\n",
       "      <td>It was May 1984. Two friends and I were up in ...</td>\n",
       "      <td>Logging roads north west of Yamhill, OR, about...</td>\n",
       "      <td>Yamhill County</td>\n",
       "      <td>Oregon</td>\n",
       "      <td>Spring</td>\n",
       "      <td>NaN</td>\n",
       "      <td>NaN</td>\n",
       "      <td>NaN</td>\n",
       "      <td>NaN</td>\n",
       "      <td>703.0</td>\n",
       "      <td>...</td>\n",
       "      <td>NaN</td>\n",
       "      <td>NaN</td>\n",
       "      <td>NaN</td>\n",
       "      <td>NaN</td>\n",
       "      <td>NaN</td>\n",
       "      <td>NaN</td>\n",
       "      <td>NaN</td>\n",
       "      <td>NaN</td>\n",
       "      <td>NaN</td>\n",
       "      <td>NaN</td>\n",
       "    </tr>\n",
       "  </tbody>\n",
       "</table>\n",
       "<p>5 rows × 28 columns</p>\n",
       "</div>"
      ],
      "text/plain": [
       "                                            observed  \\\n",
       "0  I was canoeing on the Sipsey river in Alabama....   \n",
       "1  Ed L. was salmon fishing with a companion in P...   \n",
       "2  While attending U.R.I in the Fall of 1974,I wo...   \n",
       "3  Hello, My name is Doug and though I am very re...   \n",
       "4  It was May 1984. Two friends and I were up in ...   \n",
       "\n",
       "                                    location_details  \\\n",
       "0                                                NaN   \n",
       "1                  East side of Prince William Sound   \n",
       "2             Great swamp area, Narragansett Indians   \n",
       "3  I would rather not have exact location (listin...   \n",
       "4  Logging roads north west of Yamhill, OR, about...   \n",
       "\n",
       "                           county         state  season  \\\n",
       "0                  Winston County       Alabama  Summer   \n",
       "1  Valdez-Chitina-Whittier County        Alaska    Fall   \n",
       "2               Washington County  Rhode Island    Fall   \n",
       "3                     York County  Pennsylvania  Summer   \n",
       "4                  Yamhill County        Oregon  Spring   \n",
       "\n",
       "                                               title  latitude  longitude  \\\n",
       "0                                                NaN       NaN        NaN   \n",
       "1                                                NaN       NaN        NaN   \n",
       "2  Report 6496: Bicycling student has night encou...     41.45      -71.5   \n",
       "3                                                NaN       NaN        NaN   \n",
       "4                                                NaN       NaN        NaN   \n",
       "\n",
       "         date   number  ... moon_phase precip_intensity  precip_probability  \\\n",
       "0         NaN  30680.0  ...        NaN              NaN                 NaN   \n",
       "1         NaN   1261.0  ...        NaN              NaN                 NaN   \n",
       "2  1974-09-20   6496.0  ...       0.16              0.0                 0.0   \n",
       "3         NaN   8000.0  ...        NaN              NaN                 NaN   \n",
       "4         NaN    703.0  ...        NaN              NaN                 NaN   \n",
       "\n",
       "   precip_type  pressure                 summary  uv_index  visibility  \\\n",
       "0          NaN       NaN                     NaN       NaN         NaN   \n",
       "1          NaN       NaN                     NaN       NaN         NaN   \n",
       "2          NaN   1020.61  Foggy until afternoon.       4.0        2.75   \n",
       "3          NaN       NaN                     NaN       NaN         NaN   \n",
       "4          NaN       NaN                     NaN       NaN         NaN   \n",
       "\n",
       "   wind_bearing  wind_speed  \n",
       "0           NaN         NaN  \n",
       "1           NaN         NaN  \n",
       "2         198.0        6.92  \n",
       "3           NaN         NaN  \n",
       "4           NaN         NaN  \n",
       "\n",
       "[5 rows x 28 columns]"
      ]
     },
     "execution_count": 3,
     "metadata": {},
     "output_type": "execute_result"
    }
   ],
   "source": [
    "X.head()"
   ]
  },
  {
   "cell_type": "code",
   "execution_count": 4,
   "id": "fed08453-4652-47ad-a923-cdebbd3a44ba",
   "metadata": {
    "tags": []
   },
   "outputs": [
    {
     "name": "stdout",
     "output_type": "stream",
     "text": [
      "<class 'pandas.core.frame.DataFrame'>\n",
      "RangeIndex: 5021 entries, 0 to 5020\n",
      "Data columns (total 28 columns):\n",
      " #   Column              Non-Null Count  Dtype  \n",
      "---  ------              --------------  -----  \n",
      " 0   observed            4983 non-null   object \n",
      " 1   location_details    4261 non-null   object \n",
      " 2   county              5021 non-null   object \n",
      " 3   state               5021 non-null   object \n",
      " 4   season              5021 non-null   object \n",
      " 5   title               4045 non-null   object \n",
      " 6   latitude            4045 non-null   float64\n",
      " 7   longitude           4045 non-null   float64\n",
      " 8   date                4045 non-null   object \n",
      " 9   number              5021 non-null   float64\n",
      " 10  classification      5021 non-null   object \n",
      " 11  geohash             4045 non-null   object \n",
      " 12  temperature_high    3338 non-null   float64\n",
      " 13  temperature_mid     3186 non-null   float64\n",
      " 14  temperature_low     3189 non-null   float64\n",
      " 15  dew_point           3373 non-null   float64\n",
      " 16  humidity            3373 non-null   float64\n",
      " 17  cloud_cover         3084 non-null   float64\n",
      " 18  moon_phase          3396 non-null   float64\n",
      " 19  precip_intensity    2712 non-null   float64\n",
      " 20  precip_probability  2710 non-null   float64\n",
      " 21  precip_type         1723 non-null   object \n",
      " 22  pressure            2619 non-null   float64\n",
      " 23  summary             3366 non-null   object \n",
      " 24  uv_index            3392 non-null   float64\n",
      " 25  visibility          3049 non-null   float64\n",
      " 26  wind_bearing        3387 non-null   float64\n",
      " 27  wind_speed          3389 non-null   float64\n",
      "dtypes: float64(17), object(11)\n",
      "memory usage: 1.1+ MB\n"
     ]
    }
   ],
   "source": [
    "X.info()"
   ]
  },
  {
   "cell_type": "code",
   "execution_count": 5,
   "id": "a2377f2a-aff0-4a64-a629-7594c621b6e7",
   "metadata": {
    "tags": []
   },
   "outputs": [
    {
     "data": {
      "text/plain": [
       "0                       Winston County\n",
       "1       Valdez-Chitina-Whittier County\n",
       "2                    Washington County\n",
       "3                          York County\n",
       "4                       Yamhill County\n",
       "                     ...              \n",
       "5016                 Rio Arriba County\n",
       "5017            Prince George's County\n",
       "5018                       Lake County\n",
       "5019                      White County\n",
       "5020                    Calhoun County\n",
       "Name: county, Length: 5021, dtype: object"
      ]
     },
     "execution_count": 5,
     "metadata": {},
     "output_type": "execute_result"
    }
   ],
   "source": [
    "X[\"county\"]"
   ]
  },
  {
   "cell_type": "code",
   "execution_count": 6,
   "id": "bbc15f52-4e97-436e-9c25-fa55efd069cf",
   "metadata": {
    "tags": []
   },
   "outputs": [
    {
     "data": {
      "text/plain": [
       "Class B    2510\n",
       "Class A    2481\n",
       "Class C      30\n",
       "Name: classification, dtype: int64"
      ]
     },
     "execution_count": 6,
     "metadata": {},
     "output_type": "execute_result"
    }
   ],
   "source": [
    "X.classification.value_counts(dropna=False)"
   ]
  },
  {
   "cell_type": "code",
   "execution_count": 7,
   "id": "e31743cc-664d-4672-8565-081fd0dc82a9",
   "metadata": {
    "tags": []
   },
   "outputs": [
    {
     "data": {
      "text/plain": [
       "1"
      ]
     },
     "execution_count": 7,
     "metadata": {},
     "output_type": "execute_result"
    }
   ],
   "source": [
    "X[X.classification == 'Class C'].dropna().shape[0]"
   ]
  },
  {
   "cell_type": "code",
   "execution_count": 8,
   "id": "c5a861f1-e6c2-47c4-8a41-a944d52c377e",
   "metadata": {
    "tags": []
   },
   "outputs": [
    {
     "data": {
      "text/plain": [
       "382"
      ]
     },
     "execution_count": 8,
     "metadata": {},
     "output_type": "execute_result"
    }
   ],
   "source": [
    "X[X.classification == 'Class B'].dropna().shape[0]"
   ]
  },
  {
   "cell_type": "code",
   "execution_count": 9,
   "id": "7f460add-afc3-4fc4-ab3f-ec9af74be9af",
   "metadata": {
    "tags": []
   },
   "outputs": [
    {
     "data": {
      "text/plain": [
       "338"
      ]
     },
     "execution_count": 9,
     "metadata": {},
     "output_type": "execute_result"
    }
   ],
   "source": [
    "X[X.classification == 'Class A'].dropna().shape[0]"
   ]
  },
  {
   "cell_type": "code",
   "execution_count": 10,
   "id": "95ba9c16-67b3-4fca-9f58-b7ada08cea25",
   "metadata": {
    "tags": []
   },
   "outputs": [
    {
     "data": {
      "text/plain": [
       "<AxesSubplot: xlabel='season', ylabel='Count'>"
      ]
     },
     "execution_count": 10,
     "metadata": {},
     "output_type": "execute_result"
    },
    {
     "data": {
      "image/png": "[encoded data removed]",
      "text/plain": [
       "<Figure size 640x480 with 1 Axes>"
      ]
     },
     "metadata": {},
     "output_type": "display_data"
    }
   ],
   "source": [
    "sns.histplot(X[\"season\"])"
   ]
  },
  {
   "cell_type": "code",
   "execution_count": 11,
   "id": "126b7ac6-6e63-4d84-a74b-fde7be2f6d94",
   "metadata": {
    "tags": []
   },
   "outputs": [
    {
     "data": {
      "text/plain": [
       "Summer     1867\n",
       "Fall       1492\n",
       "Spring      825\n",
       "Winter      745\n",
       "Unknown      92\n",
       "Name: season, dtype: int64"
      ]
     },
     "execution_count": 11,
     "metadata": {},
     "output_type": "execute_result"
    }
   ],
   "source": [
    "X.season.value_counts(dropna=False)"
   ]
  },
  {
   "cell_type": "code",
   "execution_count": 12,
   "id": "fa3cafb5-a3f8-442b-9841-e7b9afef3979",
   "metadata": {},
   "outputs": [
    {
     "data": {
      "text/plain": [
       "array([nan, '1974-09-20', '1973-09-28', ..., '2013-01-10', '2005-01-09',\n",
       "       '2002-04-15'], dtype=object)"
      ]
     },
     "execution_count": 12,
     "metadata": {},
     "output_type": "execute_result"
    }
   ],
   "source": [
    "X.date.unique()"
   ]
  },
  {
   "cell_type": "code",
   "execution_count": 13,
   "id": "f3a3b301-8016-4bde-a619-fc1b30d794fd",
   "metadata": {
    "tags": []
   },
   "outputs": [
    {
     "data": {
      "text/plain": [
       "<AxesSubplot: >"
      ]
     },
     "execution_count": 13,
     "metadata": {},
     "output_type": "execute_result"
    },
    {
     "data": {
      "image/png": "[encoded data removed]",
      "text/plain": [
       "<Figure size 640x480 with 1 Axes>"
      ]
     },
     "metadata": {},
     "output_type": "display_data"
    }
   ],
   "source": [
    "sns.boxplot(X[\"cloud_cover\"])"
   ]
  },
  {
   "cell_type": "code",
   "execution_count": 14,
   "id": "b7b59060-5b78-482a-b892-fc00845d4d09",
   "metadata": {
    "tags": []
   },
   "outputs": [
    {
     "data": {
      "text/plain": [
       "<AxesSubplot: >"
      ]
     },
     "execution_count": 14,
     "metadata": {},
     "output_type": "execute_result"
    },
    {
     "data": {
      "image/png": "[encoded data removed]",
      "text/plain": [
       "<Figure size 640x480 with 1 Axes>"
      ]
     },
     "metadata": {},
     "output_type": "display_data"
    }
   ],
   "source": [
    "sns.boxplot(X[\"precip_intensity\"])"
   ]
  },
  {
   "cell_type": "code",
   "execution_count": 15,
   "id": "f45f5a22-3698-455b-8821-e081c9530087",
   "metadata": {},
   "outputs": [
    {
     "data": {
      "text/plain": [
       "<AxesSubplot: xlabel='uv_index', ylabel='Count'>"
      ]
     },
     "execution_count": 15,
     "metadata": {},
     "output_type": "execute_result"
    },
    {
     "data": {
      "image/png": "[encoded data removed]",
      "text/plain": [
       "<Figure size 640x480 with 1 Axes>"
      ]
     },
     "metadata": {},
     "output_type": "display_data"
    }
   ],
   "source": [
    "sns.histplot(X.uv_index, bins=13)"
   ]
  },
  {
   "cell_type": "markdown",
   "id": "00633640-dabd-4645-9a90-41fa3b9614ff",
   "metadata": {
    "tags": []
   },
   "source": [
    "## 2.2. Conversion de types"
   ]
  },
  {
   "cell_type": "code",
   "execution_count": 16,
   "id": "eac99fa6-aaae-4264-920e-711ecadaf6b2",
   "metadata": {
    "tags": []
   },
   "outputs": [],
   "source": [
    "states = [\n",
    "    \"Alabama\",\n",
    "    \"Alaska\",\n",
    "    \"Arizona\",\n",
    "    \"Arkansas\",\n",
    "    \"California\",\n",
    "    \"Colorado\",\n",
    "    \"Connecticut\",\n",
    "    \"Delaware\",\n",
    "    \"Florida\",\n",
    "    \"Georgia\",\n",
    "    \"Idaho\",\n",
    "    \"Illinois\",\n",
    "    \"Indiana\",\n",
    "    \"Iowa\",\n",
    "    \"Kansas\",\n",
    "    \"Kentucky\",\n",
    "    \"Louisiana\",\n",
    "    \"Maine\",\n",
    "    \"Maryland\",\n",
    "    \"Massachusetts\",\n",
    "    \"Michigan\",\n",
    "    \"Minnesota\",\n",
    "    \"Mississippi\",\n",
    "    \"Missouri\",\n",
    "    \"Montana\",\n",
    "    \"Nebraska\",\n",
    "    \"Nevada\",\n",
    "    \"New Hampshire\",\n",
    "    \"New Jersey\",\n",
    "    \"New Mexico\",\n",
    "    \"New York\",\n",
    "    \"North Carolina\",\n",
    "    \"North Dakota\",\n",
    "    \"Ohio\",\n",
    "    \"Oklahoma\",\n",
    "    \"Oregon\",\n",
    "    \"Pennsylvania\",\n",
    "    \"Rhode Island\",\n",
    "    \"South Carolina\",\n",
    "    \"South Dakota\",\n",
    "    \"Tennessee\",\n",
    "    \"Texas\",\n",
    "    \"Utah\",\n",
    "    \"Vermont\",\n",
    "    \"Virginia\",\n",
    "    \"Washington\",\n",
    "    \"West Virginia\",\n",
    "    \"Wisconsin\",\n",
    "    \"Wyoming\"\n",
    "]"
   ]
  },
  {
   "cell_type": "code",
   "execution_count": 17,
   "id": "9b33984d-2375-4aac-b83b-1b4806913910",
   "metadata": {
    "tags": []
   },
   "outputs": [],
   "source": [
    "X.county = pd.Categorical(X.county)\n",
    "\n",
    "X.state = pd.Categorical(X.state, categories=states)\n",
    "\n",
    "X.season = X.season.replace(\"Unknown\", np.nan)\n",
    "X.season = pd.Categorical(X.season, categories=[\"Summer\", \"Fall\", \"Spring\", \"Winter\"], ordered=True)\n",
    "\n",
    "X.classification = X.classification.replace(\"Class A\", \"A\")\n",
    "X.classification = X.classification.replace(\"Class B\", \"B\")\n",
    "X.classification = X.classification.replace(\"Class C\", \"C\")\n",
    "X.classification = pd.Categorical(X.classification, categories=[\"A\", \"B\", \"C\"], ordered=True)\n",
    "\n",
    "X.precip_type = pd.Categorical(X.precip_type, categories=[\"rain\", \"snow\"])\n",
    "\n",
    "# X.number = X.number.astype('Int64')\n",
    "# X.set_index(\"number\", inplace=True)\n",
    "\n",
    "X.uv_index = X.uv_index.astype('Int64')\n",
    "\n",
    "# X.date = X.date.astype(\"datetime64[ns]\")\n",
    "\n",
    "# moon_phase\n",
    "# 0-0.25 – waxing crescent\n",
    "# 0.25 – first quarter\n",
    "# 0.25-0.5 – waxing gibbous\n",
    "# 0.5 – full moon\n",
    "# 0.5-0.75 – waning gibbous\n",
    "# 0.75 – last quarter\n",
    "# 0.75 -1 – waning crescent"
   ]
  },
  {
   "cell_type": "code",
   "execution_count": 18,
   "id": "3359f455-9f5a-4f0c-8fb7-1cf64ec26c5b",
   "metadata": {
    "tags": []
   },
   "outputs": [
    {
     "name": "stdout",
     "output_type": "stream",
     "text": [
      "<class 'pandas.core.frame.DataFrame'>\n",
      "RangeIndex: 5021 entries, 0 to 5020\n",
      "Data columns (total 28 columns):\n",
      " #   Column              Non-Null Count  Dtype   \n",
      "---  ------              --------------  -----   \n",
      " 0   observed            4983 non-null   object  \n",
      " 1   location_details    4261 non-null   object  \n",
      " 2   county              5021 non-null   category\n",
      " 3   state               5021 non-null   category\n",
      " 4   season              4929 non-null   category\n",
      " 5   title               4045 non-null   object  \n",
      " 6   latitude            4045 non-null   float64 \n",
      " 7   longitude           4045 non-null   float64 \n",
      " 8   date                4045 non-null   object  \n",
      " 9   number              5021 non-null   float64 \n",
      " 10  classification      5021 non-null   category\n",
      " 11  geohash             4045 non-null   object  \n",
      " 12  temperature_high    3338 non-null   float64 \n",
      " 13  temperature_mid     3186 non-null   float64 \n",
      " 14  temperature_low     3189 non-null   float64 \n",
      " 15  dew_point           3373 non-null   float64 \n",
      " 16  humidity            3373 non-null   float64 \n",
      " 17  cloud_cover         3084 non-null   float64 \n",
      " 18  moon_phase          3396 non-null   float64 \n",
      " 19  precip_intensity    2712 non-null   float64 \n",
      " 20  precip_probability  2710 non-null   float64 \n",
      " 21  precip_type         1723 non-null   category\n",
      " 22  pressure            2619 non-null   float64 \n",
      " 23  summary             3366 non-null   object  \n",
      " 24  uv_index            3392 non-null   Int64   \n",
      " 25  visibility          3049 non-null   float64 \n",
      " 26  wind_bearing        3387 non-null   float64 \n",
      " 27  wind_speed          3389 non-null   float64 \n",
      "dtypes: Int64(1), category(5), float64(16), object(6)\n",
      "memory usage: 978.9+ KB\n"
     ]
    }
   ],
   "source": [
    "X.info()"
   ]
  },
  {
   "cell_type": "code",
   "execution_count": 19,
   "id": "b8b49ad1-6dc5-48e5-929b-6cbd67c94844",
   "metadata": {
    "tags": []
   },
   "outputs": [
    {
     "data": {
      "text/html": [
       "<div>\n",
       "<style scoped>\n",
       "    .dataframe tbody tr th:only-of-type {\n",
       "        vertical-align: middle;\n",
       "    }\n",
       "\n",
       "    .dataframe tbody tr th {\n",
       "        vertical-align: top;\n",
       "    }\n",
       "\n",
       "    .dataframe thead th {\n",
       "        text-align: right;\n",
       "    }\n",
       "</style>\n",
       "<table border=\"1\" class=\"dataframe\">\n",
       "  <thead>\n",
       "    <tr style=\"text-align: right;\">\n",
       "      <th></th>\n",
       "      <th>observed</th>\n",
       "      <th>location_details</th>\n",
       "      <th>county</th>\n",
       "      <th>state</th>\n",
       "      <th>season</th>\n",
       "      <th>title</th>\n",
       "      <th>latitude</th>\n",
       "      <th>longitude</th>\n",
       "      <th>date</th>\n",
       "      <th>number</th>\n",
       "      <th>...</th>\n",
       "      <th>moon_phase</th>\n",
       "      <th>precip_intensity</th>\n",
       "      <th>precip_probability</th>\n",
       "      <th>precip_type</th>\n",
       "      <th>pressure</th>\n",
       "      <th>summary</th>\n",
       "      <th>uv_index</th>\n",
       "      <th>visibility</th>\n",
       "      <th>wind_bearing</th>\n",
       "      <th>wind_speed</th>\n",
       "    </tr>\n",
       "  </thead>\n",
       "  <tbody>\n",
       "    <tr>\n",
       "      <th>0</th>\n",
       "      <td>I was canoeing on the Sipsey river in Alabama....</td>\n",
       "      <td>NaN</td>\n",
       "      <td>Winston County</td>\n",
       "      <td>Alabama</td>\n",
       "      <td>Summer</td>\n",
       "      <td>NaN</td>\n",
       "      <td>NaN</td>\n",
       "      <td>NaN</td>\n",
       "      <td>NaN</td>\n",
       "      <td>30680.0</td>\n",
       "      <td>...</td>\n",
       "      <td>NaN</td>\n",
       "      <td>NaN</td>\n",
       "      <td>NaN</td>\n",
       "      <td>NaN</td>\n",
       "      <td>NaN</td>\n",
       "      <td>NaN</td>\n",
       "      <td>&lt;NA&gt;</td>\n",
       "      <td>NaN</td>\n",
       "      <td>NaN</td>\n",
       "      <td>NaN</td>\n",
       "    </tr>\n",
       "    <tr>\n",
       "      <th>1</th>\n",
       "      <td>Ed L. was salmon fishing with a companion in P...</td>\n",
       "      <td>East side of Prince William Sound</td>\n",
       "      <td>Valdez-Chitina-Whittier County</td>\n",
       "      <td>Alaska</td>\n",
       "      <td>Fall</td>\n",
       "      <td>NaN</td>\n",
       "      <td>NaN</td>\n",
       "      <td>NaN</td>\n",
       "      <td>NaN</td>\n",
       "      <td>1261.0</td>\n",
       "      <td>...</td>\n",
       "      <td>NaN</td>\n",
       "      <td>NaN</td>\n",
       "      <td>NaN</td>\n",
       "      <td>NaN</td>\n",
       "      <td>NaN</td>\n",
       "      <td>NaN</td>\n",
       "      <td>&lt;NA&gt;</td>\n",
       "      <td>NaN</td>\n",
       "      <td>NaN</td>\n",
       "      <td>NaN</td>\n",
       "    </tr>\n",
       "    <tr>\n",
       "      <th>2</th>\n",
       "      <td>While attending U.R.I in the Fall of 1974,I wo...</td>\n",
       "      <td>Great swamp area, Narragansett Indians</td>\n",
       "      <td>Washington County</td>\n",
       "      <td>Rhode Island</td>\n",
       "      <td>Fall</td>\n",
       "      <td>Report 6496: Bicycling student has night encou...</td>\n",
       "      <td>41.45</td>\n",
       "      <td>-71.5</td>\n",
       "      <td>1974-09-20</td>\n",
       "      <td>6496.0</td>\n",
       "      <td>...</td>\n",
       "      <td>0.16</td>\n",
       "      <td>0.0</td>\n",
       "      <td>0.0</td>\n",
       "      <td>NaN</td>\n",
       "      <td>1020.61</td>\n",
       "      <td>Foggy until afternoon.</td>\n",
       "      <td>4</td>\n",
       "      <td>2.75</td>\n",
       "      <td>198.0</td>\n",
       "      <td>6.92</td>\n",
       "    </tr>\n",
       "    <tr>\n",
       "      <th>3</th>\n",
       "      <td>Hello, My name is Doug and though I am very re...</td>\n",
       "      <td>I would rather not have exact location (listin...</td>\n",
       "      <td>York County</td>\n",
       "      <td>Pennsylvania</td>\n",
       "      <td>Summer</td>\n",
       "      <td>NaN</td>\n",
       "      <td>NaN</td>\n",
       "      <td>NaN</td>\n",
       "      <td>NaN</td>\n",
       "      <td>8000.0</td>\n",
       "      <td>...</td>\n",
       "      <td>NaN</td>\n",
       "      <td>NaN</td>\n",
       "      <td>NaN</td>\n",
       "      <td>NaN</td>\n",
       "      <td>NaN</td>\n",
       "      <td>NaN</td>\n",
       "      <td>&lt;NA&gt;</td>\n",
       "      <td>NaN</td>\n",
       "      <td>NaN</td>\n",
       "      <td>NaN</td>\n",
       "    </tr>\n",
       "    <tr>\n",
       "      <th>4</th>\n",
       "      <td>It was May 1984. Two friends and I were up in ...</td>\n",
       "      <td>Logging roads north west of Yamhill, OR, about...</td>\n",
       "      <td>Yamhill County</td>\n",
       "      <td>Oregon</td>\n",
       "      <td>Spring</td>\n",
       "      <td>NaN</td>\n",
       "      <td>NaN</td>\n",
       "      <td>NaN</td>\n",
       "      <td>NaN</td>\n",
       "      <td>703.0</td>\n",
       "      <td>...</td>\n",
       "      <td>NaN</td>\n",
       "      <td>NaN</td>\n",
       "      <td>NaN</td>\n",
       "      <td>NaN</td>\n",
       "      <td>NaN</td>\n",
       "      <td>NaN</td>\n",
       "      <td>&lt;NA&gt;</td>\n",
       "      <td>NaN</td>\n",
       "      <td>NaN</td>\n",
       "      <td>NaN</td>\n",
       "    </tr>\n",
       "  </tbody>\n",
       "</table>\n",
       "<p>5 rows × 28 columns</p>\n",
       "</div>"
      ],
      "text/plain": [
       "                                            observed  \\\n",
       "0  I was canoeing on the Sipsey river in Alabama....   \n",
       "1  Ed L. was salmon fishing with a companion in P...   \n",
       "2  While attending U.R.I in the Fall of 1974,I wo...   \n",
       "3  Hello, My name is Doug and though I am very re...   \n",
       "4  It was May 1984. Two friends and I were up in ...   \n",
       "\n",
       "                                    location_details  \\\n",
       "0                                                NaN   \n",
       "1                  East side of Prince William Sound   \n",
       "2             Great swamp area, Narragansett Indians   \n",
       "3  I would rather not have exact location (listin...   \n",
       "4  Logging roads north west of Yamhill, OR, about...   \n",
       "\n",
       "                           county         state  season  \\\n",
       "0                  Winston County       Alabama  Summer   \n",
       "1  Valdez-Chitina-Whittier County        Alaska    Fall   \n",
       "2               Washington County  Rhode Island    Fall   \n",
       "3                     York County  Pennsylvania  Summer   \n",
       "4                  Yamhill County        Oregon  Spring   \n",
       "\n",
       "                                               title  latitude  longitude  \\\n",
       "0                                                NaN       NaN        NaN   \n",
       "1                                                NaN       NaN        NaN   \n",
       "2  Report 6496: Bicycling student has night encou...     41.45      -71.5   \n",
       "3                                                NaN       NaN        NaN   \n",
       "4                                                NaN       NaN        NaN   \n",
       "\n",
       "         date   number  ... moon_phase precip_intensity  precip_probability  \\\n",
       "0         NaN  30680.0  ...        NaN              NaN                 NaN   \n",
       "1         NaN   1261.0  ...        NaN              NaN                 NaN   \n",
       "2  1974-09-20   6496.0  ...       0.16              0.0                 0.0   \n",
       "3         NaN   8000.0  ...        NaN              NaN                 NaN   \n",
       "4         NaN    703.0  ...        NaN              NaN                 NaN   \n",
       "\n",
       "   precip_type  pressure                 summary  uv_index  visibility  \\\n",
       "0          NaN       NaN                     NaN      <NA>         NaN   \n",
       "1          NaN       NaN                     NaN      <NA>         NaN   \n",
       "2          NaN   1020.61  Foggy until afternoon.         4        2.75   \n",
       "3          NaN       NaN                     NaN      <NA>         NaN   \n",
       "4          NaN       NaN                     NaN      <NA>         NaN   \n",
       "\n",
       "   wind_bearing  wind_speed  \n",
       "0           NaN         NaN  \n",
       "1           NaN         NaN  \n",
       "2         198.0        6.92  \n",
       "3           NaN         NaN  \n",
       "4           NaN         NaN  \n",
       "\n",
       "[5 rows x 28 columns]"
      ]
     },
     "execution_count": 19,
     "metadata": {},
     "output_type": "execute_result"
    }
   ],
   "source": [
    "X.head()"
   ]
  },
  {
   "cell_type": "markdown",
   "id": "ee22520a-499f-4efc-a096-53031ed6fc3d",
   "metadata": {},
   "source": [
    "## 2.3. Transformations"
   ]
  },
  {
   "cell_type": "code",
   "execution_count": 20,
   "id": "87acd166-6c44-46f3-8a0a-ffcc7aab1ab1",
   "metadata": {
    "tags": []
   },
   "outputs": [
    {
     "name": "stderr",
     "output_type": "stream",
     "text": [
      "/tmp/ipykernel_9027/2141817459.py:20: FutureWarning: The default value of regex will change from True to False in a future version.\n",
      "  title=X.title.str.replace(r'^Report \\d*: ', '')\n"
     ]
    }
   ],
   "source": [
    "X = X.assign(\n",
    "    year=X.date.str[:4],\n",
    "    month=X.date.str[5:7],\n",
    "    day=X.date.str[8:]\n",
    ")\n",
    "\n",
    "X.drop(columns=\"geohash\", inplace=True)\n",
    "\n",
    "X = X.assign(\n",
    "    temperature_high_deg=(X.temperature_high - 32) * 5 / 9,\n",
    "    temperature_mid_deg=(X.temperature_mid - 32) * 5 / 9,\n",
    "    temperature_low_deg=(X.temperature_low - 32) * 5 / 9,\n",
    "    dew_point_deg=(X.dew_point - 32) * 5 / 9,\n",
    "    wind_speed_kmh= X.wind_speed * 1.609344,\n",
    "    precip_intensity_cm= X.precip_intensity * 2.54,\n",
    "    visibility_km=X.visibility * 1.609344\n",
    ")\n",
    "\n",
    "X = X.assign(\n",
    "    title=X.title.str.replace(r'^Report \\d*: ', '')\n",
    ")"
   ]
  },
  {
   "cell_type": "code",
   "execution_count": 21,
   "id": "c4cc30ad-4834-41bc-b0ef-9a43732dc6f2",
   "metadata": {
    "tags": []
   },
   "outputs": [
    {
     "data": {
      "text/html": [
       "<div>\n",
       "<style scoped>\n",
       "    .dataframe tbody tr th:only-of-type {\n",
       "        vertical-align: middle;\n",
       "    }\n",
       "\n",
       "    .dataframe tbody tr th {\n",
       "        vertical-align: top;\n",
       "    }\n",
       "\n",
       "    .dataframe thead th {\n",
       "        text-align: right;\n",
       "    }\n",
       "</style>\n",
       "<table border=\"1\" class=\"dataframe\">\n",
       "  <thead>\n",
       "    <tr style=\"text-align: right;\">\n",
       "      <th></th>\n",
       "      <th>observed</th>\n",
       "      <th>location_details</th>\n",
       "      <th>county</th>\n",
       "      <th>state</th>\n",
       "      <th>season</th>\n",
       "      <th>title</th>\n",
       "      <th>latitude</th>\n",
       "      <th>longitude</th>\n",
       "      <th>date</th>\n",
       "      <th>number</th>\n",
       "      <th>...</th>\n",
       "      <th>year</th>\n",
       "      <th>month</th>\n",
       "      <th>day</th>\n",
       "      <th>temperature_high_deg</th>\n",
       "      <th>temperature_mid_deg</th>\n",
       "      <th>temperature_low_deg</th>\n",
       "      <th>dew_point_deg</th>\n",
       "      <th>wind_speed_kmh</th>\n",
       "      <th>precip_intensity_cm</th>\n",
       "      <th>visibility_km</th>\n",
       "    </tr>\n",
       "  </thead>\n",
       "  <tbody>\n",
       "    <tr>\n",
       "      <th>0</th>\n",
       "      <td>I was canoeing on the Sipsey river in Alabama....</td>\n",
       "      <td>NaN</td>\n",
       "      <td>Winston County</td>\n",
       "      <td>Alabama</td>\n",
       "      <td>Summer</td>\n",
       "      <td>NaN</td>\n",
       "      <td>NaN</td>\n",
       "      <td>NaN</td>\n",
       "      <td>NaN</td>\n",
       "      <td>30680.0</td>\n",
       "      <td>...</td>\n",
       "      <td>NaN</td>\n",
       "      <td>NaN</td>\n",
       "      <td>NaN</td>\n",
       "      <td>NaN</td>\n",
       "      <td>NaN</td>\n",
       "      <td>NaN</td>\n",
       "      <td>NaN</td>\n",
       "      <td>NaN</td>\n",
       "      <td>NaN</td>\n",
       "      <td>NaN</td>\n",
       "    </tr>\n",
       "    <tr>\n",
       "      <th>1</th>\n",
       "      <td>Ed L. was salmon fishing with a companion in P...</td>\n",
       "      <td>East side of Prince William Sound</td>\n",
       "      <td>Valdez-Chitina-Whittier County</td>\n",
       "      <td>Alaska</td>\n",
       "      <td>Fall</td>\n",
       "      <td>NaN</td>\n",
       "      <td>NaN</td>\n",
       "      <td>NaN</td>\n",
       "      <td>NaN</td>\n",
       "      <td>1261.0</td>\n",
       "      <td>...</td>\n",
       "      <td>NaN</td>\n",
       "      <td>NaN</td>\n",
       "      <td>NaN</td>\n",
       "      <td>NaN</td>\n",
       "      <td>NaN</td>\n",
       "      <td>NaN</td>\n",
       "      <td>NaN</td>\n",
       "      <td>NaN</td>\n",
       "      <td>NaN</td>\n",
       "      <td>NaN</td>\n",
       "    </tr>\n",
       "    <tr>\n",
       "      <th>2</th>\n",
       "      <td>While attending U.R.I in the Fall of 1974,I wo...</td>\n",
       "      <td>Great swamp area, Narragansett Indians</td>\n",
       "      <td>Washington County</td>\n",
       "      <td>Rhode Island</td>\n",
       "      <td>Fall</td>\n",
       "      <td>Bicycling student has night encounter</td>\n",
       "      <td>41.45</td>\n",
       "      <td>-71.5</td>\n",
       "      <td>1974-09-20</td>\n",
       "      <td>6496.0</td>\n",
       "      <td>...</td>\n",
       "      <td>1974</td>\n",
       "      <td>09</td>\n",
       "      <td>20</td>\n",
       "      <td>25.65</td>\n",
       "      <td>23.013889</td>\n",
       "      <td>20.377778</td>\n",
       "      <td>18.733333</td>\n",
       "      <td>11.13666</td>\n",
       "      <td>0.0</td>\n",
       "      <td>4.425696</td>\n",
       "    </tr>\n",
       "    <tr>\n",
       "      <th>3</th>\n",
       "      <td>Hello, My name is Doug and though I am very re...</td>\n",
       "      <td>I would rather not have exact location (listin...</td>\n",
       "      <td>York County</td>\n",
       "      <td>Pennsylvania</td>\n",
       "      <td>Summer</td>\n",
       "      <td>NaN</td>\n",
       "      <td>NaN</td>\n",
       "      <td>NaN</td>\n",
       "      <td>NaN</td>\n",
       "      <td>8000.0</td>\n",
       "      <td>...</td>\n",
       "      <td>NaN</td>\n",
       "      <td>NaN</td>\n",
       "      <td>NaN</td>\n",
       "      <td>NaN</td>\n",
       "      <td>NaN</td>\n",
       "      <td>NaN</td>\n",
       "      <td>NaN</td>\n",
       "      <td>NaN</td>\n",
       "      <td>NaN</td>\n",
       "      <td>NaN</td>\n",
       "    </tr>\n",
       "    <tr>\n",
       "      <th>4</th>\n",
       "      <td>It was May 1984. Two friends and I were up in ...</td>\n",
       "      <td>Logging roads north west of Yamhill, OR, about...</td>\n",
       "      <td>Yamhill County</td>\n",
       "      <td>Oregon</td>\n",
       "      <td>Spring</td>\n",
       "      <td>NaN</td>\n",
       "      <td>NaN</td>\n",
       "      <td>NaN</td>\n",
       "      <td>NaN</td>\n",
       "      <td>703.0</td>\n",
       "      <td>...</td>\n",
       "      <td>NaN</td>\n",
       "      <td>NaN</td>\n",
       "      <td>NaN</td>\n",
       "      <td>NaN</td>\n",
       "      <td>NaN</td>\n",
       "      <td>NaN</td>\n",
       "      <td>NaN</td>\n",
       "      <td>NaN</td>\n",
       "      <td>NaN</td>\n",
       "      <td>NaN</td>\n",
       "    </tr>\n",
       "  </tbody>\n",
       "</table>\n",
       "<p>5 rows × 37 columns</p>\n",
       "</div>"
      ],
      "text/plain": [
       "                                            observed  \\\n",
       "0  I was canoeing on the Sipsey river in Alabama....   \n",
       "1  Ed L. was salmon fishing with a companion in P...   \n",
       "2  While attending U.R.I in the Fall of 1974,I wo...   \n",
       "3  Hello, My name is Doug and though I am very re...   \n",
       "4  It was May 1984. Two friends and I were up in ...   \n",
       "\n",
       "                                    location_details  \\\n",
       "0                                                NaN   \n",
       "1                  East side of Prince William Sound   \n",
       "2             Great swamp area, Narragansett Indians   \n",
       "3  I would rather not have exact location (listin...   \n",
       "4  Logging roads north west of Yamhill, OR, about...   \n",
       "\n",
       "                           county         state  season  \\\n",
       "0                  Winston County       Alabama  Summer   \n",
       "1  Valdez-Chitina-Whittier County        Alaska    Fall   \n",
       "2               Washington County  Rhode Island    Fall   \n",
       "3                     York County  Pennsylvania  Summer   \n",
       "4                  Yamhill County        Oregon  Spring   \n",
       "\n",
       "                                   title  latitude  longitude        date  \\\n",
       "0                                    NaN       NaN        NaN         NaN   \n",
       "1                                    NaN       NaN        NaN         NaN   \n",
       "2  Bicycling student has night encounter     41.45      -71.5  1974-09-20   \n",
       "3                                    NaN       NaN        NaN         NaN   \n",
       "4                                    NaN       NaN        NaN         NaN   \n",
       "\n",
       "    number  ...  year  month  day  temperature_high_deg  temperature_mid_deg  \\\n",
       "0  30680.0  ...   NaN    NaN  NaN                   NaN                  NaN   \n",
       "1   1261.0  ...   NaN    NaN  NaN                   NaN                  NaN   \n",
       "2   6496.0  ...  1974     09   20                 25.65            23.013889   \n",
       "3   8000.0  ...   NaN    NaN  NaN                   NaN                  NaN   \n",
       "4    703.0  ...   NaN    NaN  NaN                   NaN                  NaN   \n",
       "\n",
       "   temperature_low_deg  dew_point_deg  wind_speed_kmh  precip_intensity_cm  \\\n",
       "0                  NaN            NaN             NaN                  NaN   \n",
       "1                  NaN            NaN             NaN                  NaN   \n",
       "2            20.377778      18.733333        11.13666                  0.0   \n",
       "3                  NaN            NaN             NaN                  NaN   \n",
       "4                  NaN            NaN             NaN                  NaN   \n",
       "\n",
       "   visibility_km  \n",
       "0            NaN  \n",
       "1            NaN  \n",
       "2       4.425696  \n",
       "3            NaN  \n",
       "4            NaN  \n",
       "\n",
       "[5 rows x 37 columns]"
      ]
     },
     "execution_count": 21,
     "metadata": {},
     "output_type": "execute_result"
    }
   ],
   "source": [
    "X.head()"
   ]
  },
  {
   "cell_type": "code",
   "execution_count": 22,
   "id": "4432d529-b686-4ae2-af49-8bcfe50a52e1",
   "metadata": {
    "tags": []
   },
   "outputs": [],
   "source": [
    "X.to_csv(\"data/bigfoot_after_manipulation.csv\", index=False)"
   ]
  }
 ],
 "metadata": {
  "kernelspec": {
   "display_name": "Python 3 (ipykernel)",
   "language": "python",
   "name": "python3"
  },
  "language_info": {
   "codemirror_mode": {
    "name": "ipython",
    "version": 3
   },
   "file_extension": ".py",
   "mimetype": "text/x-python",
   "name": "python",
   "nbconvert_exporter": "python",
   "pygments_lexer": "ipython3",
   "version": "3.9.10"
  }
 },
 "nbformat": 4,
 "nbformat_minor": 5
}
