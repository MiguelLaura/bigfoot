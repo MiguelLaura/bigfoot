{
 "cells": [
  {
   "cell_type": "markdown",
   "id": "36d5d479",
   "metadata": {},
   "source": [
    "# Projet SY09 - Bigfoot"
   ]
  },
  {
   "cell_type": "markdown",
   "id": "43cccaeb-efe2-42dc-9414-0ece1f600b3e",
   "metadata": {},
   "source": [
    "A FAIRE\n",
    "* rajouter des commentaires\n",
    "* essayer en complément des autres variables\n",
    "* afficher l'accuracy en fonction du nombre de voisins\n",
    "* utiliser les mêmes train_set pour les deux versions ?"
   ]
  },
  {
   "cell_type": "markdown",
   "id": "8d4b82a1",
   "metadata": {
    "tags": []
   },
   "source": [
    "## Import des bibiliothèques"
   ]
  },
  {
   "cell_type": "code",
   "execution_count": null,
   "id": "e1d42ab4",
   "metadata": {},
   "outputs": [],
   "source": [
    "import pandas as pd\n",
    "import seaborn as sns\n",
    "import matplotlib.pyplot as plt\n",
    "import numpy as np\n",
    "import math\n",
    "\n",
    "from datetime import datetime\n",
    "import re\n",
    "from collections import Counter, defaultdict\n",
    "\n",
    "from sklearn.decomposition import PCA\n",
    "from sklearn.cluster import AgglomerativeClustering, KMeans\n",
    "\n",
    "from sklearn.model_selection import train_test_split\n",
    "from sklearn.metrics import accuracy_score\n",
    "from sklearn.model_selection import GridSearchCV\n",
    "\n",
    "from sklearn.neighbors import KNeighborsClassifier\n",
    "\n",
    "from fog.tokenizers import WordTokenizer\n",
    "\n",
    "from sklearn.model_selection import train_test_split, cross_val_score, GridSearchCV\n",
    "from utils import plot_clustering, add_decision_boundary, plot_dendrogram, scatterplot_pca\n",
    "\n",
    "from sklearn.metrics import confusion_matrix,classification_report\n",
    "from sklearn.feature_extraction.text import CountVectorizer, TfidfVectorizer\n",
    "from sklearn.ensemble import RandomForestClassifier\n",
    "from sklearn.neighbors import KNeighborsClassifier\n",
    "from sklearn.discriminant_analysis import LinearDiscriminantAnalysis, QuadraticDiscriminantAnalysis\n",
    "from sklearn.naive_bayes import GaussianNB\n",
    "from sklearn.linear_model import LogisticRegression\n",
    "from sklearn.tree import DecisionTreeClassifier\n",
    "from sklearn.ensemble import BaggingClassifier, RandomForestClassifier"
   ]
  },
  {
   "cell_type": "markdown",
   "id": "c502d8c7",
   "metadata": {
    "tags": []
   },
   "source": [
    "## Préparation du jeu de données"
   ]
  },
  {
   "cell_type": "code",
   "execution_count": null,
   "id": "46160ba0-6fba-4482-b489-4f4ba8652cef",
   "metadata": {
    "tags": []
   },
   "outputs": [],
   "source": [
    "# importer données du fichier csv\n",
    "bigfoot = pd.read_csv(\"../data/bigfoot.csv\", sep = \",\")"
   ]
  },
  {
   "cell_type": "markdown",
   "id": "a3692a80-89e8-47c3-8b73-02acb2f94074",
   "metadata": {
    "tags": []
   },
   "source": [
    "### Features engineering"
   ]
  },
  {
   "cell_type": "markdown",
   "id": "c9150fad-acb2-4ad5-989a-23dfdfed06dd",
   "metadata": {},
   "source": [
    "* https://www.kdnuggets.com/2018/12/feature-engineering-explained.html\n",
    "* https://www.kdnuggets.com/2018/12/feature-building-techniques-tricks-kaggle.html"
   ]
  },
  {
   "cell_type": "markdown",
   "id": "42c73343-e2d5-45e8-99e6-4d447b4869c2",
   "metadata": {},
   "source": [
    "Changements par rapport au rapport intermédiaire :\n",
    "* On retire toutes les classes C\n",
    "* Comme on a pas de visualisation, on prend directement le numéro du mois pour avoir une variable numérique\n",
    "* On a plus besoin de la variable date (elle est maintenant redondante avec les variables year, month et day)\n",
    "* On ajoute les variables r et theta (coordonnées polaires) à partir de la latitude et longitude (dans le cas où les classes seraient en cercles concentriques)\n",
    "* On encode les variables precip_type et season sur plusieurs variables (one-hot-encoding : chaque nouvelle variable est une valeur possible, et la valeur de cette variable est à 1 si c'est la valeur de la variable originelle, à 0 sinon)\n",
    "* On supprime les variables precip_type et season"
   ]
  },
  {
   "cell_type": "code",
   "execution_count": null,
   "id": "3dffd0be-93c3-4898-9bcb-dfeb31bda539",
   "metadata": {
    "tags": []
   },
   "outputs": [],
   "source": [
    "bigfoot = bigfoot[bigfoot.classification != \"Class C\"]"
   ]
  },
  {
   "cell_type": "code",
   "execution_count": null,
   "id": "7e3ba392",
   "metadata": {
    "tags": []
   },
   "outputs": [],
   "source": [
    "# ajoute des colonnes jour, mois, année\n",
    "year = bigfoot['date'].copy()\n",
    "month = bigfoot['date'].copy()\n",
    "day = bigfoot['date'].copy()\n",
    "\n",
    "for i in bigfoot['date'].index:\n",
    "    d = bigfoot['date'][i]\n",
    "    if str(d) != \"nan\":\n",
    "        d_datetime = datetime.strptime(str(d),'%Y-%m-%d')\n",
    "        year[i] = d_datetime.year\n",
    "        month[i] = d_datetime.month\n",
    "        day[i] = d_datetime.day\n",
    "\n",
    "bigfoot = bigfoot.assign(year = year)\n",
    "bigfoot = bigfoot.assign(month = month)\n",
    "bigfoot = bigfoot.assign(day = day)\n",
    "\n",
    "# temperature_high : fahrenheit en celsius\n",
    "# temperature_mid : fahrenheit en celsius\n",
    "# temperature_low : fahrenheit en celsius\n",
    "# dew_point : fahrenheit en celsius\n",
    "# wind_speed : miles par heure en kilomètre par heure\n",
    "# precip_intensity : inch en cm\n",
    "# visibility : miles en kilomètre\n",
    "# latitude / longitude : coordonnées polaires\n",
    "bigfoot = bigfoot.assign(\n",
    "    temperature_high = (bigfoot.temperature_high - 32) * 5 / 9,\n",
    "    temperature_mid = (bigfoot.temperature_mid - 32) * 5 / 9,\n",
    "    temperature_low = (bigfoot.temperature_low - 32) * 5 / 9,\n",
    "    dew_point = (bigfoot.dew_point - 32) * 5 / 9,\n",
    "    wind_speed = bigfoot.wind_speed * 1.609344,\n",
    "    precip_intensity = bigfoot.precip_intensity * 2.54,\n",
    "    visibility = bigfoot.visibility * 1.609344,\n",
    "    r = np.sqrt(bigfoot.longitude ** 2 + bigfoot.latitude ** 2 ),\n",
    "    theta = 2 * np.arctan( bigfoot.latitude / ( bigfoot.longitude + np.sqrt(bigfoot.longitude ** 2 + bigfoot.latitude ** 2 )))\n",
    ")\n",
    "\n",
    "# pour le \"titre\" garde la partie [titre] du format inital “Report [numéro] : [titre]”\n",
    "bigfoot = bigfoot.assign(\n",
    "    title = bigfoot.title.str.replace(r'^Report \\d*: ', '')\n",
    ")\n",
    "\n",
    "# transformation de precip_type en deux colonnes snow et rain\n",
    "# transformation de season en quatre colonnes\n",
    "bigfoot[\"rain\"] = 0.0\n",
    "bigfoot.loc[bigfoot.precip_type == \"rain\", \"rain\"] = 1.0\n",
    "bigfoot[\"snow\"] = 0.0\n",
    "bigfoot.loc[bigfoot.precip_type == \"snow\", \"snow\"] = 1.0\n",
    "bigfoot[\"summer\"] = 0.0\n",
    "bigfoot.loc[bigfoot.season == \"Summer\", \"summer\"] = 1.0\n",
    "bigfoot[\"spring\"] = 0.0\n",
    "bigfoot.loc[bigfoot.season == \"Spring\", \"spring\"] = 1.0\n",
    "bigfoot[\"fall\"] = 0.0\n",
    "bigfoot.loc[bigfoot.season == \"Fall\", \"fall\"] = 1.0\n",
    "bigfoot[\"winter\"] = 0.0\n",
    "bigfoot.loc[bigfoot.season == \"Winter\", \"winter\"] = 1.0\n",
    "\n",
    "bigfoot.drop(columns=\"geohash\", inplace=True)\n",
    "bigfoot.drop(columns=\"date\", inplace=True)\n",
    "bigfoot.drop(columns=[\"precip_type\"], inplace=True)"
   ]
  },
  {
   "cell_type": "markdown",
   "id": "d076d61e-5f92-48d8-bb2b-a87da5155da2",
   "metadata": {
    "tags": []
   },
   "source": [
    "### Typage des variables"
   ]
  },
  {
   "cell_type": "markdown",
   "id": "cc687bff-cc98-4f59-a08b-3f870c11e3af",
   "metadata": {},
   "source": [
    "Changements par rapport au rapport intermédiaire :\n",
    "* day, month, year castés à float pour éviter d'avoir les nan spécifiques aux entiers"
   ]
  },
  {
   "cell_type": "code",
   "execution_count": null,
   "id": "58ac4ac1-407d-439a-a987-bef0aa3497dc",
   "metadata": {
    "tags": []
   },
   "outputs": [],
   "source": [
    "# dictionnaire des états des Etats-Unis et leur abbrévation\n",
    "us_state_to_abbrev = {\n",
    "    \"Alabama\": \"AL\",\n",
    "    \"Alaska\": \"AK\",\n",
    "    \"Arizona\": \"AZ\",\n",
    "    \"Arkansas\": \"AR\",\n",
    "    \"California\": \"CA\",\n",
    "    \"Colorado\": \"CO\",\n",
    "    \"Connecticut\": \"CT\",\n",
    "    \"Delaware\": \"DE\",\n",
    "    \"Florida\": \"FL\",\n",
    "    \"Georgia\": \"GA\",\n",
    "    \"Hawaii\": \"HI\",\n",
    "    \"Idaho\": \"ID\",\n",
    "    \"Illinois\": \"IL\",\n",
    "    \"Indiana\": \"IN\",\n",
    "    \"Iowa\": \"IA\",\n",
    "    \"Kansas\": \"KS\",\n",
    "    \"Kentucky\": \"KY\",\n",
    "    \"Louisiana\": \"LA\",\n",
    "    \"Maine\": \"ME\",\n",
    "    \"Maryland\": \"MD\",\n",
    "    \"Massachusetts\": \"MA\",\n",
    "    \"Michigan\": \"MI\",\n",
    "    \"Minnesota\": \"MN\",\n",
    "    \"Mississippi\": \"MS\",\n",
    "    \"Missouri\": \"MO\",\n",
    "    \"Montana\": \"MT\",\n",
    "    \"Nebraska\": \"NE\",\n",
    "    \"Nevada\": \"NV\",\n",
    "    \"New Hampshire\": \"NH\",\n",
    "    \"New Jersey\": \"NJ\",\n",
    "    \"New Mexico\": \"NM\",\n",
    "    \"New York\": \"NY\",\n",
    "    \"North Carolina\": \"NC\",\n",
    "    \"North Dakota\": \"ND\",\n",
    "    \"Ohio\": \"OH\",\n",
    "    \"Oklahoma\": \"OK\",\n",
    "    \"Oregon\": \"OR\",\n",
    "    \"Pennsylvania\": \"PA\",\n",
    "    \"Rhode Island\": \"RI\",\n",
    "    \"South Carolina\": \"SC\",\n",
    "    \"South Dakota\": \"SD\",\n",
    "    \"Tennessee\": \"TN\",\n",
    "    \"Texas\": \"TX\",\n",
    "    \"Utah\": \"UT\",\n",
    "    \"Vermont\": \"VT\",\n",
    "    \"Virginia\": \"VA\",\n",
    "    \"Washington\": \"WA\",\n",
    "    \"West Virginia\": \"WV\",\n",
    "    \"Wisconsin\": \"WI\",\n",
    "    \"Wyoming\": \"WY\",\n",
    "}\n",
    "\n",
    "# variables catégorielles\n",
    "# Attention! Conséquence, variables catégorielles ont des valeurs <NA> à la place de NaN.\n",
    "bigfoot.county = pd.Categorical(bigfoot.county)\n",
    "bigfoot.state = pd.Categorical(bigfoot.state, categories=us_state_to_abbrev.keys())\n",
    "bigfoot.classification = bigfoot.classification.replace(\"Class A\", \"A\")\n",
    "bigfoot.classification = bigfoot.classification.replace(\"Class B\", \"B\")\n",
    "bigfoot.classification = pd.Categorical(bigfoot.classification, categories=[\"A\", \"B\"], ordered=True)\n",
    "\n",
    "bigfoot.observed = bigfoot.observed.astype('str')\n",
    "bigfoot.location_details = bigfoot.location_details.astype('str')\n",
    "bigfoot.title = bigfoot.title.astype('str')\n",
    "bigfoot.summary = bigfoot.summary.astype('str')\n",
    "bigfoot.number = bigfoot.number.astype('Int64')\n",
    "bigfoot.day = bigfoot.day.astype(float)\n",
    "bigfoot.month = bigfoot.month.astype(float)\n",
    "bigfoot.year = bigfoot.year.astype(float)"
   ]
  },
  {
   "cell_type": "markdown",
   "id": "60785de2-7412-4f71-b40e-43d1f37c3bee",
   "metadata": {
    "tags": []
   },
   "source": [
    "### Observer les corrélations pour supprimer des variables"
   ]
  },
  {
   "cell_type": "code",
   "execution_count": null,
   "id": "ea042b6e-03c8-40e7-b083-3606d29c6d94",
   "metadata": {
    "tags": []
   },
   "outputs": [],
   "source": [
    "features = [\n",
    "    'r',\n",
    "    'theta',\n",
    "    'latitude',\n",
    "    'longitude',\n",
    "    'temperature_high',\n",
    "    'temperature_mid',\n",
    "    'temperature_low',\n",
    "    'dew_point',\n",
    "    'humidity',\n",
    "    'cloud_cover',\n",
    "    'moon_phase',\n",
    "    'precip_intensity',\n",
    "    'precip_probability',\n",
    "    'pressure',\n",
    "    'uv_index',\n",
    "    'visibility',\n",
    "    'wind_bearing',\n",
    "    'wind_speed',\n",
    "    'year',\n",
    "    'month',\n",
    "    'day'\n",
    "    ]\n",
    "\n",
    "corr = bigfoot[features].corr()\n",
    "sns.heatmap(corr)"
   ]
  },
  {
   "cell_type": "code",
   "execution_count": null,
   "id": "d3771539-ad0a-4515-9570-7c1339d397c0",
   "metadata": {
    "tags": []
   },
   "outputs": [],
   "source": [
    "features = [\n",
    "    'r',\n",
    "    'theta',\n",
    "    'latitude',\n",
    "    'temperature_mid',\n",
    "    'humidity',\n",
    "    'cloud_cover',\n",
    "    'moon_phase',\n",
    "    'precip_intensity',\n",
    "    'precip_probability',\n",
    "    'pressure',\n",
    "    'uv_index',\n",
    "    'visibility',\n",
    "    'wind_bearing',\n",
    "    'wind_speed',\n",
    "    'year',\n",
    "    'month',\n",
    "    'day'\n",
    "    ]\n",
    "corr = bigfoot.drop(columns=[\"temperature_high\", \"temperature_low\", \"dew_point\", \"longitude\"])[features].corr()\n",
    "sns.heatmap(corr)"
   ]
  },
  {
   "cell_type": "code",
   "execution_count": null,
   "id": "d3f310bf-c467-4f4a-8d03-a9c780756742",
   "metadata": {
    "tags": []
   },
   "outputs": [],
   "source": [
    "bigfoot.drop(columns=[\"temperature_high\", \"temperature_low\", \"dew_point\"], inplace=True)\n",
    "\n",
    "features = [\n",
    "    'summer',\n",
    "    'winter',\n",
    "    'fall',\n",
    "    'spring',\n",
    "    'rain',\n",
    "    'snow',\n",
    "    'r',\n",
    "    'theta',\n",
    "    'latitude',\n",
    "    'temperature_mid',\n",
    "    'humidity',\n",
    "    'cloud_cover',\n",
    "    'moon_phase',\n",
    "    'precip_intensity',\n",
    "    'precip_probability',\n",
    "    'pressure',\n",
    "    'uv_index',\n",
    "    'visibility',\n",
    "    'wind_bearing',\n",
    "    'wind_speed',\n",
    "    'year',\n",
    "    'month',\n",
    "    'day'\n",
    "    ]\n",
    "\n",
    "cat_cols = [\n",
    "    'summer',\n",
    "    'winter',\n",
    "    'fall',\n",
    "    'spring',\n",
    "    'rain',\n",
    "    'snow',\n",
    "]\n",
    "\n",
    "num_cols = [\n",
    "    'r',\n",
    "    'theta',\n",
    "    'latitude',\n",
    "    'temperature_mid',\n",
    "    'humidity',\n",
    "    'cloud_cover',\n",
    "    'moon_phase',\n",
    "    'precip_intensity',\n",
    "    'precip_probability',\n",
    "    'pressure',\n",
    "    'uv_index',\n",
    "    'visibility',\n",
    "    'wind_bearing',\n",
    "    'wind_speed',\n",
    "    'year',\n",
    "    'month',\n",
    "    'day'\n",
    "]"
   ]
  },
  {
   "cell_type": "markdown",
   "id": "602590cc-1f6d-495c-b90e-bb0a48c797b1",
   "metadata": {},
   "source": [
    "## Traiter le texte"
   ]
  },
  {
   "cell_type": "code",
   "execution_count": null,
   "id": "45778ea7-6fd5-4a19-a01e-61724c7fa124",
   "metadata": {},
   "outputs": [],
   "source": [
    "def fill_missing(df):\n",
    "    '''\n",
    "    replace empty values by column's mean in dataframe\n",
    "    '''\n",
    "    return df.copy().fillna(df.mean())"
   ]
  },
  {
   "cell_type": "code",
   "execution_count": null,
   "id": "3f5b1a2d-7456-43f4-9bf6-9ac0acacaaf6",
   "metadata": {},
   "outputs": [],
   "source": [
    "def calculate_zscore(df):\n",
    "    '''\n",
    "    scales columns in dataframe using z-score\n",
    "    '''\n",
    "    df = df.copy()\n",
    "    for col in df.columns:\n",
    "        if df[col].std(ddof=0) == 0:\n",
    "            df[col] = (df[col] - df[col].mean())\n",
    "        else:\n",
    "            df[col] = (df[col] - df[col].mean()) / df[col].std(ddof=0)\n",
    "\n",
    "    return df"
   ]
  },
  {
   "cell_type": "code",
   "execution_count": null,
   "id": "e010c8df-e1ad-4668-b89c-fd0981d48616",
   "metadata": {},
   "outputs": [],
   "source": [
    "def normalize_column_modality(df):\n",
    "    '''\n",
    "    divides each column by the probability μₘ of the modality \n",
    "    (number of ones in the column divided by N) only for one hot columns\n",
    "    '''\n",
    "    df = df.copy()\n",
    "    length = len(df)\n",
    "    for col in df.columns:\n",
    "        weight = math.sqrt(sum(df[col])/length)\n",
    "        df[col] = df[col]/weight\n",
    "\n",
    "    return df"
   ]
  },
  {
   "cell_type": "code",
   "execution_count": null,
   "id": "fa962247-3828-459a-8451-44ef7e5be13e",
   "metadata": {
    "tags": []
   },
   "outputs": [],
   "source": [
    "stop_list = [\"me\", \"'m\", \"while\", \"near\", \"'re\", \"'s\", 'report', 'person', 'smh', 'it', 'great', 'there', 'days', 'hate', 'look', 'most', 'phone', 'well', 'watch', \"'ve\", 'm', 'by', 'cause', 'got', 'out', 'too', 'will', 't', 'get', 'video', 'keep', 'care', 'song', 'd', 'mean', 'was', 'he', 'miss', 'such', 'damn', 'is', 'house', 'a', 'into', 'am', 'been', 'im', 'much', 'one', 'just', 'are', 'really', 'sleep', 'team', 'want', 'work', 'photo', 'gotta', 'its', 'niggas', 'because', 'home', 'already', 'better', 'new', 'now', '3', 'off', 'made', 'over', 'your', 'only', 'tweet', 'week', 'she', 'this', 'didn', 'does', 'god', 'ever', 'dont', 'gonna', \"i'\", 'after', 'and', 'hard', 'help', 'how', 'in', 'their', 'any', 'him', 'bout', 'never', 'when', 'if', 'take', 'everyone', 'something', 'what', 'talk', \"won't\", 'they', 's', 'so', 'can', 'show', 'r', 'next', 'tell', 'them', 'guys', 'again', 'than', 'before', 'nigga', 'p', 'thing', 'g', 'w', 'friends', 'best', 'being', 'life', 'said', 'the', 'i', 'l', 'more', 'should', 'play', 'ross', 'someone', 'think', 'on', 'were', 'where', 'far', 'fuck', 'right', 'with', 'school', 'her', 'about', '2012', 'put', 'way', 'fucking', 'twitter', 'back', 'would', 'don', 'or', 'us', 'to', 'e', 'free', 'need', 'thank', 'who', '0', 'hip', 'every', 'gone', 'o', 'bad', 'head', 'at', 'ass', 'ready', 'day', 'll', 'heart', 'his', 'time', \"'d\", \"'ll\", 'my', 'f', 'all', 'has', 've', 'other', 'going', 'having', 'shit', 'an', 'go', 'wait', 'did', 'like', 'many', 'follow', 'last', 'morning', 'we', 'away', 'tomorrow', 'you', 'cool', 'no', 'that', 'feel', 'here', 'real', 'had', \"don't\", 'do', 're', 'live', \"can't\", 'news', 'lt', 'today', 'love', 'why', 'world', 'check', 'still', 'for', 'know', 'see', 'wish', 'have', 'cant', 'give', 'things', 'two', 'down', 'stop', 'say', 'class', 'done', 'thanks', 'looking', 'up', 'be', 'start', 'find', 'nothing', '1', 'tho', 'though', '2', 'won', 'another', 'hair', 'watching', 'please', 'make', 'then', 'even', 'people', 'let', 'year', 'everything', 'h', 'big', 'girls', 'wanna', 'could', 'from', 'our', 'ain', 'but', 'c', 'doing', 'hop', 'old', 'some', 'of', 'good', 'nice', 'n', 'b', 'as', 'money', 'girl', 'around', 'u', 'face', 'bitch', 'not', 'game', 'always', 'j', 'long', 'lmao', 'same', 'k', 'little', 'getting', 'win', 'these', 'hope', 'amp', 'tonight', 'man', 'come']\n",
    "NUMBER_PARENTHESIS = re.compile(r\"[0-9\\(\\)]\")\n",
    "\n",
    "tokenizer = WordTokenizer(lower=True, unidecode=True, drop=[\"punct\", \"number\"], stoplist=stop_list)"
   ]
  },
  {
   "cell_type": "markdown",
   "id": "b925dd3f-4290-4498-abaa-236489bf7349",
   "metadata": {},
   "source": [
    "IDF -> si le terme est important pour le document. Plus c'est grand, plus le terme est spécifique au document.\n",
    "\n",
    "TF -> à quel point le terme est présent au sein du document.\n",
    "\n",
    "Pour les variables python finissant en class, on considère qu'un document correspond à l'ensemble des textes de la classe"
   ]
  },
  {
   "cell_type": "code",
   "execution_count": null,
   "id": "454fa9a9-ebb9-4732-ac50-ca6b961b4789",
   "metadata": {
    "tags": []
   },
   "outputs": [],
   "source": [
    "tokens_series = bigfoot.observed.copy()\n",
    "tokens = Counter()\n",
    "tokens_per_report = defaultdict(Counter)\n",
    "tokens_per_class = defaultdict(Counter)\n",
    "report_per_token = defaultdict(set)\n",
    "class_per_token = defaultdict(set)\n",
    "TF = defaultdict(Counter)\n",
    "\n",
    "for i in bigfoot[:].index:\n",
    "    if bigfoot[\"observed\"][i] == \"nan\":\n",
    "        continue\n",
    "    tokens_series[i] = \"|\".join([i for _, i in tokenizer.tokenize(bigfoot[\"observed\"][i])])\n",
    "    for _, token in tokenizer.tokenize(bigfoot[\"observed\"][i]):\n",
    "        if not NUMBER_PARENTHESIS.search(token):\n",
    "            tokens[token] += 1\n",
    "            tokens_per_report[bigfoot[\"number\"][i]][token] += 1\n",
    "            tokens_per_class[bigfoot[\"classification\"][i]][token] += 1\n",
    "            report_per_token[token].add(bigfoot[\"number\"][i])\n",
    "            class_per_token[token].add(bigfoot[\"classification\"][i])\n",
    "    for _, token in tokenizer.tokenize(bigfoot[\"observed\"][i]):\n",
    "        if sum(i for _, i in tokens_per_report[bigfoot[\"number\"][i]].most_common()) != 0:\n",
    "            # nombre de fois que le token est présent dans le rapport / nombre de tokens du rapport\n",
    "            TF[bigfoot[\"number\"][i]][token] = tokens_per_report[bigfoot[\"number\"][i]][token] / sum(i for _, i in tokens_per_report[bigfoot[\"number\"][i]].most_common())\n",
    "\n",
    "bigfoot = bigfoot.assign(tokens = tokens_series)"
   ]
  },
  {
   "cell_type": "code",
   "execution_count": null,
   "id": "062c80ed-d5a0-4441-aab9-fae7ca5d1251",
   "metadata": {
    "tags": []
   },
   "outputs": [],
   "source": [
    "tokens_per_class[\"A\"].most_common(10)"
   ]
  },
  {
   "cell_type": "code",
   "execution_count": null,
   "id": "91fbeb78-5730-4834-86ae-bab3be9e5312",
   "metadata": {
    "tags": []
   },
   "outputs": [],
   "source": [
    "tokens_per_class[\"B\"].most_common(10)"
   ]
  },
  {
   "cell_type": "code",
   "execution_count": null,
   "id": "19ff03cc-eda2-4118-a57b-3d9e7b2072a0",
   "metadata": {
    "tags": []
   },
   "outputs": [],
   "source": [
    "IDF = Counter()\n",
    "for index_most, token in enumerate(tokens):\n",
    "    if len(report_per_token[token]) != 0:\n",
    "        # log( nombre de témoignages / nombre de témoignages où apparaît le token )\n",
    "        IDF[token] = math.log( bigfoot.shape[0] / len(report_per_token[token]) )"
   ]
  },
  {
   "cell_type": "code",
   "execution_count": null,
   "id": "3084be88-4801-454b-bef5-034c6769e466",
   "metadata": {
    "tags": []
   },
   "outputs": [],
   "source": [
    "IDF.most_common(10)"
   ]
  },
  {
   "cell_type": "code",
   "execution_count": null,
   "id": "0671df1a-77e7-46fb-a1dc-542f98db7680",
   "metadata": {
    "tags": []
   },
   "outputs": [],
   "source": [
    "pd.DataFrame(tokens_per_class[\"A\"].most_common(200))"
   ]
  },
  {
   "cell_type": "code",
   "execution_count": null,
   "id": "e90eb30a-9a09-45b7-b4a5-ed77de816aa9",
   "metadata": {
    "tags": []
   },
   "outputs": [],
   "source": [
    "pd.DataFrame(tokens_per_class[\"A\"].most_common(50)).plot.bar(x=0, y=1)"
   ]
  },
  {
   "cell_type": "code",
   "execution_count": null,
   "id": "2be628d3-0b17-4d12-8091-31437f5252ee",
   "metadata": {
    "tags": []
   },
   "outputs": [],
   "source": [
    "pd.DataFrame(tokens_per_class[\"B\"].most_common(50)).plot.bar(x=0, y=1)"
   ]
  },
  {
   "cell_type": "code",
   "execution_count": null,
   "id": "686da6d2-2fbb-4266-990a-f1c5ebb354fa",
   "metadata": {
    "tags": []
   },
   "outputs": [],
   "source": [
    "# les 10 tokens les plus présents pour chaque classe\n",
    "tokens_to_use = set([i for i, _ in tokens_per_class[\"A\"].most_common(10)] + [i for i, _ in tokens_per_class[\"B\"].most_common(10)])"
   ]
  },
  {
   "cell_type": "code",
   "execution_count": null,
   "id": "ba2de89c-33f5-467b-ad60-48bfc8b7ab3e",
   "metadata": {
    "tags": []
   },
   "outputs": [],
   "source": [
    "tokens_to_use"
   ]
  },
  {
   "cell_type": "code",
   "execution_count": null,
   "id": "3068e9fe-3190-4d06-a04d-5c7c4efea6de",
   "metadata": {
    "tags": []
   },
   "outputs": [],
   "source": [
    "# TF-IDF\n",
    "TF_IDF = defaultdict(Counter)\n",
    "for index_bigfoot in bigfoot[:].index:\n",
    "    for index_most, token in enumerate(tokens_to_use):\n",
    "        TF_IDF[bigfoot[\"number\"][index_bigfoot]][token] = TF[bigfoot[\"number\"][index_bigfoot]][token] * IDF[token]"
   ]
  },
  {
   "cell_type": "code",
   "execution_count": null,
   "id": "640e722b-a5b3-422b-82ed-e8713e140892",
   "metadata": {
    "tags": []
   },
   "outputs": [],
   "source": [
    "most_present_columns_0_1 = [bigfoot.observed.copy() for i in tokens_to_use]\n",
    "most_present_columns_TF_IDF = [bigfoot.observed.copy() for i in tokens_to_use]"
   ]
  },
  {
   "cell_type": "markdown",
   "id": "635dfce1-7ceb-4ba3-9378-bf76a76da8f5",
   "metadata": {},
   "source": [
    "### One-hot-encoding (on essaye en codant 0 et 1 dans les colonnes des mots)"
   ]
  },
  {
   "cell_type": "code",
   "execution_count": null,
   "id": "1aa133d1-0ce9-4d36-a9bd-5b4cbe06bc6b",
   "metadata": {
    "tags": []
   },
   "outputs": [],
   "source": [
    "# Pour chaque token selectionné, on ajoute une colonne one-hot encoding\n",
    "for index_bigfoot in bigfoot[:].index:\n",
    "    for index_most, token in enumerate(tokens_to_use):\n",
    "        if token in tokens_per_report[bigfoot[\"number\"][index_bigfoot]]:\n",
    "            most_present_columns_0_1[index_most][index_bigfoot] = 1\n",
    "        else:\n",
    "            most_present_columns_0_1[index_most][index_bigfoot] = 0\n",
    "\n",
    "for index_most, token in enumerate(tokens_to_use):\n",
    "    bigfoot[token] = most_present_columns_0_1[index_most]"
   ]
  },
  {
   "cell_type": "code",
   "execution_count": null,
   "id": "af9691bc-c5d7-48f1-8375-5fa25ab24fab",
   "metadata": {
    "tags": []
   },
   "outputs": [],
   "source": [
    "bigfoot_famd = normalize_column_modality(bigfoot[list(tokens_to_use)])\n",
    "cls = PCA()\n",
    "pcs = cls.fit_transform(bigfoot_famd)\n",
    "plt.bar(range(cls.components_.shape[0]), cls.explained_variance_ratio_)\n",
    "plt.show()"
   ]
  },
  {
   "cell_type": "code",
   "execution_count": null,
   "id": "a8d28865-8ba1-43ca-b1c6-90acf585328d",
   "metadata": {
    "tags": []
   },
   "outputs": [],
   "source": [
    "eig = pd.DataFrame(\n",
    "    {\n",
    "        \"Dimension\" : [\"Dim\" + str(x + 1) for x in range(cls.explained_variance_.size)], \n",
    "        \"Variance expliquée\" : cls.explained_variance_,\n",
    "        \"% variance expliquée\" : np.round(cls.explained_variance_ratio_ * 100),\n",
    "        \"% cum. var. expliquée\" : np.round(np.cumsum(cls.explained_variance_ratio_) * 100)\n",
    "    }\n",
    ")\n",
    "eig"
   ]
  },
  {
   "cell_type": "code",
   "execution_count": null,
   "id": "5db996fc-212f-400f-89d6-66a58836e25b",
   "metadata": {
    "tags": []
   },
   "outputs": [],
   "source": [
    "df_X = pd.DataFrame(pcs, columns=[f\"PC{i+1}\" for i in range(cls.components_.shape[0])])\n",
    "sns.scatterplot(x=\"PC1\", y=\"PC2\", hue=bigfoot.classification, data=df_X)\n",
    "plt.title(\"Premier plan factoriel\")\n",
    "plt.show()"
   ]
  },
  {
   "cell_type": "code",
   "execution_count": null,
   "id": "4bf51339-75ce-4a92-b4df-ede9a3379b4b",
   "metadata": {
    "tags": []
   },
   "outputs": [],
   "source": [
    "n = bigfoot_famd.shape[0] # nb individus\n",
    "p = bigfoot_famd.shape[1] # nb variables\n",
    "eigval = (n-1) / n * cls.explained_variance_ # valeurs propres\n",
    "sqrt_eigval = np.sqrt(eigval) # racine carrée des valeurs propres\n",
    "corvar = np.zeros((p,p)) # matrice vide pour avoir les coordonnées\n",
    "for k in range(p):\n",
    "    corvar[:,k] = cls.components_[k,:] * sqrt_eigval[k]\n",
    "# on modifie pour avoir un dataframe\n",
    "coordvar = pd.DataFrame({'id': list(tokens_to_use), 'COR_1': corvar[:,0], 'COR_2': corvar[:,1]})\n",
    "\n",
    "# Création d'une figure vide (avec des axes entre -1 et 1 + le titre)\n",
    "fig, axes = plt.subplots(figsize = (6,6))\n",
    "fig.suptitle(\"Cercle des corrélations\")\n",
    "axes.set_xlim(-1, 1)\n",
    "axes.set_ylim(-1, 1)\n",
    "# Ajout des axes\n",
    "axes.axvline(x = 0, color = 'lightgray', linestyle = '--', linewidth = 1)\n",
    "axes.axhline(y = 0, color = 'lightgray', linestyle = '--', linewidth = 1)\n",
    "# Ajout des noms des variables\n",
    "for j in range(p):\n",
    "    axes.text(coordvar[\"COR_1\"][j],coordvar[\"COR_2\"][j], coordvar[\"id\"][j])\n",
    "# Ajout du cercle\n",
    "plt.gca().add_artist(plt.Circle((0,0),1,color='blue',fill=False))\n",
    "\n",
    "plt.show()"
   ]
  },
  {
   "cell_type": "code",
   "execution_count": null,
   "id": "f7b003f3-7b4e-4b5b-8be9-114c7f040b6b",
   "metadata": {},
   "outputs": [],
   "source": [
    "kmeans3 = KMeans(n_clusters=2, n_init=10)\n",
    "kmeans3.fit(bigfoot_famd)\n",
    "plt.figure(figsize=(8,6))\n",
    "labels = pd.Series(kmeans3.labels_, name=\"K-means\")\n",
    "ax, _ = scatterplot_pca(data=bigfoot_famd, hue=labels, style=bigfoot.classification)\n",
    "plt.show()\n",
    "fig = ax.get_figure()"
   ]
  },
  {
   "cell_type": "code",
   "execution_count": null,
   "id": "10d50b51-97aa-4089-9e42-398ba8c86404",
   "metadata": {
    "tags": []
   },
   "outputs": [],
   "source": [
    "# Séparer le jeu de donnéees\n",
    "X_train, X_test, y_train, y_test = train_test_split(bigfoot_famd, bigfoot.classification, train_size=0.66)"
   ]
  },
  {
   "cell_type": "code",
   "execution_count": null,
   "id": "95c53a87-b37a-4a68-ab34-29864cd6144b",
   "metadata": {
    "tags": []
   },
   "outputs": [],
   "source": [
    "# validation croisées pour trouver le meilleur nombre de voisins\n",
    "\n",
    "# De 1 à 500 voisins (exclu), échelle logarithmique\n",
    "n_neighbors_list = np.unique(np.round(np.geomspace(1, 500, 100)).astype(int))\n",
    "param_grid = {\"n_neighbors\": n_neighbors_list}\n",
    "\n",
    "cls = KNeighborsClassifier()\n",
    "search = GridSearchCV(cls, param_grid, scoring=\"accuracy\", cv=10)\n",
    "search.fit(X_train, y_train)\n",
    "y_pred = search.predict(X_test)\n",
    "accuracy_score(y_pred, y_test), search.best_params_"
   ]
  },
  {
   "cell_type": "code",
   "execution_count": null,
   "id": "729113e8-d42e-45a6-906c-42002fd1a36d",
   "metadata": {},
   "outputs": [],
   "source": [
    "models = [\n",
    "    (LinearDiscriminantAnalysis, \"LDA\"),\n",
    "    (QuadraticDiscriminantAnalysis, \"QDA\"),\n",
    "    (GaussianNB, \"NB\"),\n",
    "    (LogisticRegression, \"LREG\"),\n",
    "    (DecisionTreeClassifier, \"Tree\")\n",
    "]\n",
    "\n",
    "def validation_errors(X, y, models):\n",
    "    for model, name in models:\n",
    "        for acc in cross_val_score(model(), X, y, cv=10):\n",
    "            yield name, acc\n",
    "\n",
    "def add_decision_boundaries(df, models):\n",
    "    colors = sns.color_palette()\n",
    "    for model, name in models:\n",
    "        y = df.classification\n",
    "        X = df.drop(columns=[\"classification\"])\n",
    "        cls = model()\n",
    "        cls.fit(X, y)\n",
    "        add_decision_boundary(cls, label=name, color=colors.pop(), region=False)"
   ]
  },
  {
   "cell_type": "code",
   "execution_count": null,
   "id": "8266607f-ab13-40c7-822c-81c2c22f18c5",
   "metadata": {},
   "outputs": [],
   "source": [
    "df = pd.DataFrame(validation_errors(X_train, y_train, models), columns=[\"Model\",\"Acc\"])\n",
    "sns.lineplot(x=\"Model\", y=\"Acc\", data=df, ci=\"sd\")\n",
    "plt.show()"
   ]
  },
  {
   "cell_type": "code",
   "execution_count": null,
   "id": "adbff158-114b-49a9-a3bd-7235ee752a0c",
   "metadata": {},
   "outputs": [],
   "source": [
    "model = DecisionTreeClassifier()\n",
    "clf = BaggingClassifier(model, n_estimators=3)\n",
    "clf.fit(X_train, y_train)\n",
    "y_pred = clf.predict(X_test)\n",
    "print(accuracy_score(y_pred, y_test))"
   ]
  },
  {
   "cell_type": "code",
   "execution_count": null,
   "id": "dc793ddd-6a30-439c-ab99-a2a2dcf3707e",
   "metadata": {},
   "outputs": [],
   "source": [
    "clf = RandomForestClassifier()\n",
    "clf.fit(X_train, y_train)\n",
    "y_pred = clf.predict(X_test)\n",
    "print(accuracy_score(y_pred, y_test))"
   ]
  },
  {
   "cell_type": "markdown",
   "id": "84918006-5243-4e88-9ff4-8b7b55b26c45",
   "metadata": {},
   "source": [
    "### TF-IDF dans la colonne à la place de 0 et 1"
   ]
  },
  {
   "cell_type": "code",
   "execution_count": null,
   "id": "2f5b9972-6ee8-4947-bc0f-34d47270a937",
   "metadata": {
    "tags": []
   },
   "outputs": [],
   "source": [
    "for index_bigfoot in bigfoot[:].index:\n",
    "    for index_most, token in enumerate(tokens_to_use):\n",
    "        most_present_columns_TF_IDF[index_most][index_bigfoot] = TF_IDF[bigfoot[\"number\"][index_bigfoot]][token]\n",
    "\n",
    "for index_most, token in enumerate(tokens_to_use):\n",
    "    bigfoot[token] = most_present_columns_TF_IDF[index_most]"
   ]
  },
  {
   "cell_type": "code",
   "execution_count": null,
   "id": "a2b7977b-a26e-4395-98e5-e7f54a800eda",
   "metadata": {
    "tags": []
   },
   "outputs": [],
   "source": [
    "bigfoot_famd = bigfoot[list(tokens_to_use)]\n",
    "cls = PCA()\n",
    "pcs = cls.fit_transform(bigfoot_famd)\n",
    "plt.bar(range(cls.components_.shape[0]), cls.explained_variance_ratio_)\n",
    "plt.show()"
   ]
  },
  {
   "cell_type": "code",
   "execution_count": null,
   "id": "29eab176-b415-41d9-9902-8ed5554a7046",
   "metadata": {
    "tags": []
   },
   "outputs": [],
   "source": [
    "eig = pd.DataFrame(\n",
    "    {\n",
    "        \"Dimension\" : [\"Dim\" + str(x + 1) for x in range(cls.explained_variance_.size)], \n",
    "        \"Variance expliquée\" : cls.explained_variance_,\n",
    "        \"% variance expliquée\" : np.round(cls.explained_variance_ratio_ * 100),\n",
    "        \"% cum. var. expliquée\" : np.round(np.cumsum(cls.explained_variance_ratio_) * 100)\n",
    "    }\n",
    ")\n",
    "eig"
   ]
  },
  {
   "cell_type": "code",
   "execution_count": null,
   "id": "1769267a-6643-495b-9fe4-8a96ecd61e08",
   "metadata": {
    "tags": []
   },
   "outputs": [],
   "source": [
    "df_X = pd.DataFrame(pcs, columns=[f\"PC{i+1}\" for i in range(cls.components_.shape[0])])\n",
    "sns.scatterplot(x=\"PC1\", y=\"PC2\", hue=bigfoot.classification, data=df_X)\n",
    "plt.title(\"Premier plan factoriel\")\n",
    "plt.show()"
   ]
  },
  {
   "cell_type": "code",
   "execution_count": null,
   "id": "01db3758-c34f-4e6a-8001-be930b433e3c",
   "metadata": {
    "tags": []
   },
   "outputs": [],
   "source": [
    "n = bigfoot_famd.shape[0] # nb individus\n",
    "p = bigfoot_famd.shape[1] # nb variables\n",
    "eigval = (n-1) / n * cls.explained_variance_ # valeurs propres\n",
    "sqrt_eigval = np.sqrt(eigval) # racine carrée des valeurs propres\n",
    "corvar = np.zeros((p,p)) # matrice vide pour avoir les coordonnées\n",
    "for k in range(p):\n",
    "    corvar[:,k] = cls.components_[k,:] * sqrt_eigval[k]\n",
    "# on modifie pour avoir un dataframe\n",
    "coordvar = pd.DataFrame({'id': list(tokens_to_use), 'COR_1': corvar[:,0], 'COR_2': corvar[:,1]})\n",
    "\n",
    "# Création d'une figure vide (avec des axes entre -1 et 1 + le titre)\n",
    "fig, axes = plt.subplots(figsize = (6,6))\n",
    "fig.suptitle(\"Cercle des corrélations\")\n",
    "axes.set_xlim(-1, 1)\n",
    "axes.set_ylim(-1, 1)\n",
    "# Ajout des axes\n",
    "axes.axvline(x = 0, color = 'lightgray', linestyle = '--', linewidth = 1)\n",
    "axes.axhline(y = 0, color = 'lightgray', linestyle = '--', linewidth = 1)\n",
    "# Ajout des noms des variables\n",
    "for j in range(p):\n",
    "    axes.text(coordvar[\"COR_1\"][j],coordvar[\"COR_2\"][j], coordvar[\"id\"][j])\n",
    "# Ajout du cercle\n",
    "plt.gca().add_artist(plt.Circle((0,0),1,color='blue',fill=False))\n",
    "\n",
    "plt.show()"
   ]
  },
  {
   "cell_type": "code",
   "execution_count": null,
   "id": "ba113faf-1509-4bfd-a011-a6ca7a645347",
   "metadata": {},
   "outputs": [],
   "source": [
    "kmeans3 = KMeans(n_clusters=2, n_init=10)\n",
    "kmeans3.fit(bigfoot_famd)\n",
    "plt.figure(figsize=(8,6))\n",
    "labels = pd.Series(kmeans3.labels_, name=\"K-means\")\n",
    "ax, _ = scatterplot_pca(data=bigfoot_famd, hue=labels, style=bigfoot.classification)\n",
    "plt.show()\n",
    "fig = ax.get_figure()"
   ]
  },
  {
   "cell_type": "code",
   "execution_count": null,
   "id": "5512592e-21df-42cf-90dc-940fd69d8345",
   "metadata": {
    "tags": []
   },
   "outputs": [],
   "source": [
    "# Séparer le jeu de donnéees\n",
    "X_train, X_test, y_train, y_test = train_test_split(bigfoot_famd, bigfoot.classification, train_size=0.66)"
   ]
  },
  {
   "cell_type": "code",
   "execution_count": null,
   "id": "b39345c8-5485-4315-8be5-04d8b88e5db2",
   "metadata": {
    "tags": []
   },
   "outputs": [],
   "source": [
    "# validation croisées pour trouver le meilleur nombre de voisins\n",
    "\n",
    "# De 1 à 500 voisins (exclu), échelle logarithmique\n",
    "n_neighbors_list = np.unique(np.round(np.geomspace(1, 500, 100)).astype(int))\n",
    "param_grid = {\"n_neighbors\": n_neighbors_list}\n",
    "\n",
    "cls = KNeighborsClassifier()\n",
    "search = GridSearchCV(cls, param_grid, scoring=\"accuracy\", cv=10)\n",
    "search.fit(X_train, y_train)\n",
    "y_pred = search.predict(X_test)\n",
    "accuracy_score(y_pred, y_test), search.best_params_"
   ]
  },
  {
   "cell_type": "code",
   "execution_count": null,
   "id": "55282e3e-94fb-4ed3-8763-827fd325d894",
   "metadata": {},
   "outputs": [],
   "source": [
    "models = [\n",
    "    (LinearDiscriminantAnalysis, \"LDA\"),\n",
    "    (QuadraticDiscriminantAnalysis, \"QDA\"),\n",
    "    (GaussianNB, \"NB\"),\n",
    "    (LogisticRegression, \"LREG\"),\n",
    "    (DecisionTreeClassifier, \"Tree\")\n",
    "]\n",
    "\n",
    "def validation_errors(X, y, models):\n",
    "    for model, name in models:\n",
    "        for acc in cross_val_score(model(), X, y, cv=10):\n",
    "            yield name, acc\n",
    "\n",
    "def add_decision_boundaries(df, models):\n",
    "    colors = sns.color_palette()\n",
    "    for model, name in models:\n",
    "        y = df.classification\n",
    "        X = df.drop(columns=[\"classification\"])\n",
    "        cls = model()\n",
    "        cls.fit(X, y)\n",
    "        add_decision_boundary(cls, label=name, color=colors.pop(), region=False)"
   ]
  },
  {
   "cell_type": "code",
   "execution_count": null,
   "id": "2b260ae7-a84a-47e7-b71f-943481cfc9db",
   "metadata": {},
   "outputs": [],
   "source": [
    "df = pd.DataFrame(validation_errors(X_train, y_train, models), columns=[\"Model\",\"Acc\"])\n",
    "sns.lineplot(x=\"Model\", y=\"Acc\", data=df, ci=\"sd\")\n",
    "plt.show()"
   ]
  },
  {
   "cell_type": "code",
   "execution_count": null,
   "id": "740f2dfb-22bb-4142-8b62-3ab528f9b22f",
   "metadata": {},
   "outputs": [],
   "source": [
    "model = DecisionTreeClassifier()\n",
    "clf = BaggingClassifier(model, n_estimators=3)\n",
    "clf.fit(X_train, y_train)\n",
    "y_pred = clf.predict(X_test)\n",
    "print(accuracy_score(y_pred, y_test))"
   ]
  },
  {
   "cell_type": "code",
   "execution_count": null,
   "id": "ed866236-e552-45b4-ab02-75ec7b04a355",
   "metadata": {},
   "outputs": [],
   "source": [
    "clf = RandomForestClassifier()\n",
    "clf.fit(X_train, y_train)\n",
    "y_pred = clf.predict(X_test)\n",
    "print(accuracy_score(y_pred, y_test))"
   ]
  }
 ],
 "metadata": {
  "kernelspec": {
   "display_name": "Python 3 (ipykernel)",
   "language": "python",
   "name": "python3"
  },
  "language_info": {
   "codemirror_mode": {
    "name": "ipython",
    "version": 3
   },
   "file_extension": ".py",
   "mimetype": "text/x-python",
   "name": "python",
   "nbconvert_exporter": "python",
   "pygments_lexer": "ipython3",
   "version": "3.10.5"
  },
  "toc-autonumbering": true,
  "toc-showtags": false
 },
 "nbformat": 4,
 "nbformat_minor": 5
}
