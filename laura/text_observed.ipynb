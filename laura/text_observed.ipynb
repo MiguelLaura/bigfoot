{
 "cells": [
  {
   "cell_type": "code",
   "execution_count": 1,
   "id": "1916bd68-462f-4c57-9f11-e7f65cd22333",
   "metadata": {
    "tags": []
   },
   "outputs": [],
   "source": [
    "import pandas as pd\n",
    "import seaborn as sns\n",
    "import matplotlib.pyplot as plt\n",
    "import numpy as np\n",
    "\n",
    "from datetime import datetime\n",
    "\n",
    "import csv\n",
    "from fog.tokenizers import WordTokenizer\n",
    "import networkx as nx\n",
    "from ipysigma import Sigma\n",
    "from pelote import (\n",
    "    graph_to_edges_dataframe,\n",
    "    graph_to_nodes_dataframe,\n",
    "    crop_to_largest_connected_component,\n",
    "    monopartite_projection,\n",
    "    global_threshold_sparsification\n",
    ")\n",
    "\n",
    "import re\n",
    "import math\n",
    "from tqdm import tqdm\n",
    "from collections import defaultdict, Counter"
   ]
  },
  {
   "cell_type": "code",
   "execution_count": 2,
   "id": "168359d1-ac25-4f92-ac72-e52d35507c5c",
   "metadata": {
    "tags": []
   },
   "outputs": [
    {
     "name": "stderr",
     "output_type": "stream",
     "text": [
      "100%|██████████████████████████████████████████████████████████████████████████████████████████████████████████████████████████████████████████████████████████████████| 5021/5021 [00:53<00:00, 94.42it/s]\n"
     ]
    }
   ],
   "source": [
    "stop_list = [\"'m\", \"'re\", \"'s\", 'report', 'person', 'smh', 'it', 'great', 'there', 'days', 'hate', 'look', 'most', 'phone', 'well', 'watch', \"'ve\", 'm', 'by', 'cause', 'got', 'out', 'too', 'will', 't', 'get', 'video', 'keep', 'care', 'song', 'd', 'mean', 'night', 'was', 'he', 'miss', 'such', 'damn', 'is', 'house', 'a', 'into', 'am', 'been', 'im', 'much', 'one', 'just', 'are', 'really', 'sleep', 'team', 'want', 'work', 'photo', 'gotta', 'its', 'niggas', 'because', 'home', 'already', 'better', 'new', 'now', '3', 'off', 'made', 'over', 'your', 'only', 'tweet', 'week', 'she', 'this', 'didn', 'does', 'god', 'ever', 'dont', 'gonna', \"i'\", 'after', 'and', 'hard', 'help', 'how', 'in', 'their', 'any', 'him', 'bout', 'never', 'when', 'if', 'take', 'everyone', 'something', 'what', 'talk', \"won't\", 'they', 's', 'so', 'can', 'show', 'r', 'next', 'tell', 'them', 'guys', 'again', 'than', 'before', 'nigga', 'p', 'thing', 'g', 'w', 'friends', 'best', 'being', 'life', 'said', 'the', 'i', 'l', 'more', 'should', 'play', 'ross', 'someone', 'think', 'on', 'were', 'where', 'far', 'fuck', 'right', 'with', 'school', 'her', 'about', '2012', 'put', 'way', 'fucking', 'twitter', 'back', 'would', 'don', 'or', 'us', 'to', 'e', 'free', 'need', 'thank', 'who', '0', 'hip', 'every', 'gone', 'o', 'bad', 'head', 'at', 'ass', 'ready', 'day', 'll', 'heart', 'his', 'time', \"'d\", \"'ll\", 'my', 'f', 'all', 'has', 've', 'other', 'going', 'having', 'shit', 'an', 'go', 'wait', 'did', 'like', 'many', 'follow', 'last', 'morning', 'we', 'away', 'tomorrow', 'you', 'cool', 'no', 'that', 'feel', 'here', 'real', 'had', \"don't\", 'do', 're', 'live', \"can't\", 'news', 'lt', 'today', 'love', 'why', 'world', 'check', 'still', 'for', 'know', 'see', 'wish', 'have', 'cant', 'give', 'things', 'two', 'down', 'stop', 'say', 'class', 'done', 'thanks', 'looking', 'up', 'be', 'start', 'find', 'nothing', '1', 'tho', 'though', '2', 'won', 'another', 'hair', 'watching', 'please', 'make', 'then', 'even', 'people', 'let', 'year', 'everything', 'h', 'big', 'girls', 'wanna', 'could', 'from', 'our', 'ain', 'but', 'c', 'doing', 'hop', 'old', 'some', 'of', 'good', 'nice', 'n', 'b', 'as', 'money', 'girl', 'around', 'u', 'face', 'bitch', 'not', 'game', 'always', 'j', 'long', 'lmao', 'same', 'k', 'little', 'getting', 'win', 'these', 'hope', 'amp', 'tonight', 'man', 'come']\n",
    "NUMBER_PARENTHESIS = re.compile(\"[0-9\\(\\)]\")\n",
    "\n",
    "tokenizer = WordTokenizer(lower=True, unidecode=True, drop=[\"punct\", \"number\"], stoplist=stop_list)\n",
    "\n",
    "report_class = {}\n",
    "\n",
    "tokens = Counter()\n",
    "tokens_per_report = defaultdict(set)\n",
    "class_per_token = defaultdict(set)\n",
    "\n",
    "with open(\"../data/bigfoot.csv\", \"r\") as f:\n",
    "    reader = csv.DictReader(f)\n",
    "    for line in tqdm(reader, total=5021):\n",
    "\n",
    "        if line[\"classification\"] == \"Class C\":\n",
    "            continue\n",
    "\n",
    "        report_class[line[\"number\"]] = line[\"classification\"]\n",
    "\n",
    "        # changer l'attribut dans line pour faire pareil avec location_details et observe\n",
    "        for _, token in tokenizer.tokenize(line[\"observed\"]):\n",
    "            if not NUMBER_PARENTHESIS.search(token):\n",
    "                tokens[token] += 1\n",
    "                class_per_token[token].add(line[\"classification\"])\n",
    "                tokens_per_report[line[\"number\"]].add(token)"
   ]
  },
  {
   "cell_type": "code",
   "execution_count": 3,
   "id": "7c6999f0-0302-4735-bb35-4fc0734f18fd",
   "metadata": {
    "tags": []
   },
   "outputs": [],
   "source": [
    "dict_tokens = {k: v for k, v in tokens.most_common() if v > 5}"
   ]
  },
  {
   "cell_type": "code",
   "execution_count": 4,
   "id": "9dbdcc7e-0c90-4c9d-8fff-8402d1c63ab9",
   "metadata": {
    "tags": []
   },
   "outputs": [
    {
     "data": {
      "text/plain": [
       "count    7256.000000\n",
       "mean       92.838203\n",
       "std       322.379068\n",
       "min         6.000000\n",
       "25%         9.000000\n",
       "50%        18.000000\n",
       "75%        53.000000\n",
       "max      9455.000000\n",
       "dtype: float64"
      ]
     },
     "execution_count": 4,
     "metadata": {},
     "output_type": "execute_result"
    },
    {
     "data": {
      "image/png": "[encoded data removed]",
      "text/plain": [
       "<Figure size 640x480 with 1 Axes>"
      ]
     },
     "metadata": {},
     "output_type": "display_data"
    }
   ],
   "source": [
    "pd.Series(dict_tokens).plot.hist(bins = 250)\n",
    "pd.Series(dict_tokens).describe()"
   ]
  },
  {
   "cell_type": "code",
   "execution_count": 5,
   "id": "07a67693-d4e9-42aa-bb10-7c8ea3049814",
   "metadata": {
    "tags": []
   },
   "outputs": [
    {
     "name": "stdout",
     "output_type": "stream",
     "text": [
      "12208 484674 0.006504684751599779\n"
     ]
    }
   ],
   "source": [
    "g = nx.Graph()\n",
    "\n",
    "for report, tokens_report in tokens_per_report.items():\n",
    "    g.add_node(\n",
    "        report,\n",
    "        classification=report_class[report],\n",
    "        part=\"report\"\n",
    "    )\n",
    "    for token in tokens_report:\n",
    "        if token in dict_tokens.keys():\n",
    "            g.add_node(\n",
    "                token,\n",
    "                part=\"token\"\n",
    "            )\n",
    "            g.add_edge(\n",
    "                report,\n",
    "                token\n",
    "            )\n",
    "\n",
    "print(g.order(), g.size(), nx.density(g))"
   ]
  },
  {
   "cell_type": "code",
   "execution_count": 6,
   "id": "5023052c-6eb0-41d0-8a88-3f430586d548",
   "metadata": {},
   "outputs": [],
   "source": [
    "crop_to_largest_connected_component(g)"
   ]
  },
  {
   "cell_type": "code",
   "execution_count": 7,
   "id": "8b0f6086-c84b-4d21-aecf-6961849a8ad5",
   "metadata": {},
   "outputs": [
    {
     "data": {
      "application/vnd.jupyter.widget-view+json": {
       "model_id": "520ebbe229be4f9d869b22b5068203d4",
       "version_major": 2,
       "version_minor": 0
      },
      "text/plain": [
       "Sigma(nx.Graph with 12,208 nodes and 484,674 edges)"
      ]
     },
     "execution_count": 7,
     "metadata": {},
     "output_type": "execute_result"
    }
   ],
   "source": [
    "Sigma(\n",
    "    g,\n",
    "    node_color=\"classification\"\n",
    ")"
   ]
  }
 ],
 "metadata": {
  "kernelspec": {
   "display_name": "Python 3 (ipykernel)",
   "language": "python",
   "name": "python3"
  },
  "language_info": {
   "codemirror_mode": {
    "name": "ipython",
    "version": 3
   },
   "file_extension": ".py",
   "mimetype": "text/x-python",
   "name": "python",
   "nbconvert_exporter": "python",
   "pygments_lexer": "ipython3",
   "version": "3.10.5"
  }
 },
 "nbformat": 4,
 "nbformat_minor": 5
}
