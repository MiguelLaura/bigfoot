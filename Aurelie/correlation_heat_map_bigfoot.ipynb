{
 "cells": [
  {
   "cell_type": "markdown",
   "id": "8d4b82a1",
   "metadata": {
    "tags": []
   },
   "source": [
    "# Carte de corrélation Bigfoot"
   ]
  },
  {
   "cell_type": "markdown",
   "id": "da15502e-fb73-4330-96e5-beaae399cdb0",
   "metadata": {
    "tags": []
   },
   "source": [
    "## Import des bibiliothèques"
   ]
  },
  {
   "cell_type": "code",
   "execution_count": 1,
   "id": "e1d42ab4",
   "metadata": {},
   "outputs": [],
   "source": [
    "import pandas as pd\n",
    "import seaborn as sns\n",
    "import matplotlib.pyplot as plt\n",
    "import numpy as np\n",
    "import math\n",
    "import matplotlib as mpl\n",
    "\n",
    "from datetime import datetime"
   ]
  },
  {
   "cell_type": "markdown",
   "id": "c502d8c7",
   "metadata": {
    "tags": []
   },
   "source": [
    "## Préparation du jeu de données"
   ]
  },
  {
   "cell_type": "code",
   "execution_count": 2,
   "id": "46160ba0-6fba-4482-b489-4f4ba8652cef",
   "metadata": {
    "tags": []
   },
   "outputs": [],
   "source": [
    "# importer données du fichier csv\n",
    "bigfoot = pd.read_csv(\"./data/bigfoot.csv\", sep = \",\")"
   ]
  },
  {
   "cell_type": "code",
   "execution_count": 3,
   "id": "3dffd0be-93c3-4898-9bcb-dfeb31bda539",
   "metadata": {
    "tags": []
   },
   "outputs": [],
   "source": [
    "bigfoot = bigfoot[bigfoot.classification != \"Class C\"]"
   ]
  },
  {
   "cell_type": "code",
   "execution_count": 4,
   "id": "7e3ba392",
   "metadata": {
    "tags": []
   },
   "outputs": [
    {
     "name": "stderr",
     "output_type": "stream",
     "text": [
      "C:\\Users\\Aurelie\\AppData\\Local\\Temp\\ipykernel_16800\\847808280.py:40: FutureWarning: The default value of regex will change from True to False in a future version.\n",
      "  title = bigfoot.title.str.replace(r'^Report \\d*: ', '')\n"
     ]
    }
   ],
   "source": [
    "# ajoute des colonnes jour, mois, année\n",
    "year = bigfoot['date'].copy()\n",
    "month = bigfoot['date'].copy()\n",
    "day = bigfoot['date'].copy()\n",
    "\n",
    "for i in bigfoot['date'].index:\n",
    "    d = bigfoot['date'][i]\n",
    "    if str(d) != \"nan\":\n",
    "        d_datetime = datetime.strptime(str(d),'%Y-%m-%d')\n",
    "        year[i] = d_datetime.year\n",
    "        month[i] = d_datetime.month\n",
    "        day[i] = d_datetime.day\n",
    "\n",
    "bigfoot = bigfoot.assign(year = year)\n",
    "bigfoot = bigfoot.assign(month = month)\n",
    "bigfoot = bigfoot.assign(day = day)\n",
    "\n",
    "# temperature_high : fahrenheit en celsius\n",
    "# temperature_mid : fahrenheit en celsius\n",
    "# temperature_low : fahrenheit en celsius\n",
    "# dew_point : fahrenheit en celsius\n",
    "# wind_speed : miles par heure en kilomètre par heure\n",
    "# precip_intensity : inch en cm\n",
    "# visibility : miles en kilomètre\n",
    "# latitude / longitude : coordonnées polaires\n",
    "bigfoot = bigfoot.assign(\n",
    "    temperature_high = (bigfoot.temperature_high - 32) * 5 / 9,\n",
    "    temperature_mid = (bigfoot.temperature_mid - 32) * 5 / 9,\n",
    "    temperature_low = (bigfoot.temperature_low - 32) * 5 / 9,\n",
    "    dew_point = (bigfoot.dew_point - 32) * 5 / 9,\n",
    "    wind_speed = bigfoot.wind_speed * 1.609344,\n",
    "    precip_intensity = bigfoot.precip_intensity * 2.54,\n",
    "    visibility = bigfoot.visibility * 1.609344,\n",
    "    r = np.sqrt(bigfoot.longitude ** 2 + bigfoot.latitude ** 2 ),\n",
    "    theta = 2 * np.arctan( bigfoot.latitude / ( bigfoot.longitude + np.sqrt(bigfoot.longitude ** 2 + bigfoot.latitude ** 2 )))\n",
    ")\n",
    "\n",
    "# pour le \"titre\" garde la partie [titre] du format inital “Report [numéro] : [titre]”\n",
    "bigfoot = bigfoot.assign(\n",
    "    title = bigfoot.title.str.replace(r'^Report \\d*: ', '')\n",
    ")\n",
    "\n",
    "# transformation de precip_type en deux colonnes snow et rain\n",
    "# transformation de season en quatre colonnes\n",
    "bigfoot[\"rain\"] = 0.0\n",
    "bigfoot.loc[bigfoot.precip_type == \"rain\", \"rain\"] = 1.0\n",
    "bigfoot[\"snow\"] = 0.0\n",
    "bigfoot.loc[bigfoot.precip_type == \"snow\", \"snow\"] = 1.0\n",
    "\n",
    "bigfoot[\"summer\"] = 0.0\n",
    "bigfoot.loc[bigfoot.season == \"Summer\", \"summer\"] = 1.0\n",
    "bigfoot[\"spring\"] = 0.0\n",
    "bigfoot.loc[bigfoot.season == \"Spring\", \"spring\"] = 1.0\n",
    "bigfoot[\"fall\"] = 0.0\n",
    "bigfoot.loc[bigfoot.season == \"Fall\", \"fall\"] = 1.0\n",
    "bigfoot[\"winter\"] = 0.0\n",
    "bigfoot.loc[bigfoot.season == \"Winter\", \"winter\"] = 1.0\n",
    "\n",
    "bigfoot.drop(columns=\"geohash\", inplace=True)\n",
    "bigfoot.drop(columns=\"date\", inplace=True)\n",
    "bigfoot.drop(columns=[\"precip_type\"], inplace=True)"
   ]
  },
  {
   "cell_type": "markdown",
   "id": "d076d61e-5f92-48d8-bb2b-a87da5155da2",
   "metadata": {
    "tags": []
   },
   "source": [
    "### Typage des variables"
   ]
  },
  {
   "cell_type": "code",
   "execution_count": 5,
   "id": "58ac4ac1-407d-439a-a987-bef0aa3497dc",
   "metadata": {
    "tags": []
   },
   "outputs": [],
   "source": [
    "# dictionnaire des états des Etats-Unis et leur abbrévation\n",
    "us_state_to_abbrev = {\n",
    "    \"Alabama\": \"AL\",\n",
    "    \"Alaska\": \"AK\",\n",
    "    \"Arizona\": \"AZ\",\n",
    "    \"Arkansas\": \"AR\",\n",
    "    \"California\": \"CA\",\n",
    "    \"Colorado\": \"CO\",\n",
    "    \"Connecticut\": \"CT\",\n",
    "    \"Delaware\": \"DE\",\n",
    "    \"Florida\": \"FL\",\n",
    "    \"Georgia\": \"GA\",\n",
    "    \"Hawaii\": \"HI\",\n",
    "    \"Idaho\": \"ID\",\n",
    "    \"Illinois\": \"IL\",\n",
    "    \"Indiana\": \"IN\",\n",
    "    \"Iowa\": \"IA\",\n",
    "    \"Kansas\": \"KS\",\n",
    "    \"Kentucky\": \"KY\",\n",
    "    \"Louisiana\": \"LA\",\n",
    "    \"Maine\": \"ME\",\n",
    "    \"Maryland\": \"MD\",\n",
    "    \"Massachusetts\": \"MA\",\n",
    "    \"Michigan\": \"MI\",\n",
    "    \"Minnesota\": \"MN\",\n",
    "    \"Mississippi\": \"MS\",\n",
    "    \"Missouri\": \"MO\",\n",
    "    \"Montana\": \"MT\",\n",
    "    \"Nebraska\": \"NE\",\n",
    "    \"Nevada\": \"NV\",\n",
    "    \"New Hampshire\": \"NH\",\n",
    "    \"New Jersey\": \"NJ\",\n",
    "    \"New Mexico\": \"NM\",\n",
    "    \"New York\": \"NY\",\n",
    "    \"North Carolina\": \"NC\",\n",
    "    \"North Dakota\": \"ND\",\n",
    "    \"Ohio\": \"OH\",\n",
    "    \"Oklahoma\": \"OK\",\n",
    "    \"Oregon\": \"OR\",\n",
    "    \"Pennsylvania\": \"PA\",\n",
    "    \"Rhode Island\": \"RI\",\n",
    "    \"South Carolina\": \"SC\",\n",
    "    \"South Dakota\": \"SD\",\n",
    "    \"Tennessee\": \"TN\",\n",
    "    \"Texas\": \"TX\",\n",
    "    \"Utah\": \"UT\",\n",
    "    \"Vermont\": \"VT\",\n",
    "    \"Virginia\": \"VA\",\n",
    "    \"Washington\": \"WA\",\n",
    "    \"West Virginia\": \"WV\",\n",
    "    \"Wisconsin\": \"WI\",\n",
    "    \"Wyoming\": \"WY\",\n",
    "}\n",
    "\n",
    "# variables catégorielles\n",
    "# Attention! Conséquence, variables catégorielles ont des valeurs <NA> à la place de NaN.\n",
    "bigfoot.county = pd.Categorical(bigfoot.county)\n",
    "bigfoot.state = pd.Categorical(bigfoot.state, categories=us_state_to_abbrev.keys())\n",
    "bigfoot.classification = bigfoot.classification.replace(\"Class A\", \"A\")\n",
    "bigfoot.classification = bigfoot.classification.replace(\"Class B\", \"B\")\n",
    "bigfoot.classification = pd.Categorical(bigfoot.classification, categories=[\"A\", \"B\"], ordered=True)\n",
    "\n",
    "bigfoot.observed = bigfoot.observed.astype('str')\n",
    "bigfoot.location_details = bigfoot.location_details.astype('str')\n",
    "bigfoot.title = bigfoot.title.astype('str')\n",
    "bigfoot.summary = bigfoot.summary.astype('str')\n",
    "bigfoot.number = bigfoot.number.astype('Int64')\n",
    "bigfoot.day = bigfoot.day.astype(float)\n",
    "bigfoot.month = bigfoot.month.astype(float)\n",
    "bigfoot.year = bigfoot.year.astype(float)"
   ]
  },
  {
   "cell_type": "markdown",
   "id": "60785de2-7412-4f71-b40e-43d1f37c3bee",
   "metadata": {
    "tags": []
   },
   "source": [
    "### Observer les corrélations pour supprimer des variables"
   ]
  },
  {
   "cell_type": "code",
   "execution_count": 6,
   "id": "d3f310bf-c467-4f4a-8d03-a9c780756742",
   "metadata": {
    "tags": []
   },
   "outputs": [],
   "source": [
    "bigfoot.drop(columns=[\"temperature_high\", \"temperature_low\", \"dew_point\"], inplace=True)\n",
    "\n",
    "# pour la carte des corrélations\n",
    "# one-hot encoding de la classification avec 1 pour A et 0 pour B\n",
    "bigfoot[\"class_A_B\"] = 0.0\n",
    "bigfoot.loc[bigfoot.classification == \"A\", \"class_A_B\"] = 1.0\n",
    "\n",
    "features = [\n",
    "    'summer',\n",
    "    'winter',\n",
    "    'fall',\n",
    "    'spring',\n",
    "    'rain',\n",
    "    'snow',\n",
    "    'r',\n",
    "    'theta',\n",
    "    'latitude',\n",
    "    'longitude',\n",
    "    'temperature_mid',\n",
    "    'humidity',\n",
    "    'cloud_cover',\n",
    "    'moon_phase',\n",
    "    'precip_intensity',\n",
    "    'precip_probability',\n",
    "    'pressure',\n",
    "    'uv_index',\n",
    "    'visibility',\n",
    "    'wind_bearing',\n",
    "    'wind_speed',\n",
    "    'year',\n",
    "    'month',\n",
    "    'day',\n",
    "    'class_A_B' # pour la carte des corrélations\n",
    "    ]\n"
   ]
  },
  {
   "cell_type": "code",
   "execution_count": 7,
   "id": "5941d0c2-c1e2-4921-90e6-01adc5698992",
   "metadata": {},
   "outputs": [],
   "source": [
    "cat_cols = [\n",
    "    'summer',\n",
    "    'winter',\n",
    "    'fall',\n",
    "    'spring',\n",
    "    'rain',\n",
    "    'snow',\n",
    "    'class_A_B'\n",
    "]\n",
    "\n",
    "numeric_cols = [\n",
    "    'r',\n",
    "    'theta',\n",
    "    'longitude',\n",
    "    'latitude',\n",
    "    'temperature_mid',\n",
    "    'humidity',\n",
    "    'cloud_cover',\n",
    "    'moon_phase',\n",
    "    'precip_intensity',\n",
    "    'precip_probability',\n",
    "    'pressure',\n",
    "    'uv_index',\n",
    "    'visibility',\n",
    "    'wind_bearing',\n",
    "    'wind_speed',\n",
    "    'year',\n",
    "    'month',\n",
    "    'day'\n",
    "]"
   ]
  },
  {
   "cell_type": "code",
   "execution_count": 8,
   "id": "1af84a39-0666-401a-b233-ab7f95b9740a",
   "metadata": {},
   "outputs": [],
   "source": [
    "def fill_missing(df):\n",
    "    '''\n",
    "    replace empty values by column's mean in dataframe\n",
    "    '''\n",
    "    return df.copy().fillna(df.mean())\n",
    "\n",
    "def calculate_zscore(df):\n",
    "    '''\n",
    "    scales columns in dataframe using z-score\n",
    "    '''\n",
    "    df = df.copy()\n",
    "    for col in df.columns:\n",
    "        df[col] = (df[col] - df[col].mean())/df[col].std(ddof=0)\n",
    "\n",
    "    return df\n",
    "\n",
    "def normalize_column_modality(df):\n",
    "    '''\n",
    "    divides each column by the probability μₘ of the modality \n",
    "    (number of ones in the column divided by N) only for one hot columns\n",
    "    '''\n",
    "    df = df.copy()\n",
    "    length = len(df)\n",
    "    for col in df.columns:\n",
    "        weight = math.sqrt(sum(df[col])/length)\n",
    "        df[col] = df[col]/weight\n",
    "\n",
    "    return df\n",
    "\n",
    "def center_columns(df):\n",
    "    '''\n",
    "    center columns by subtracting the mean value\n",
    "    '''\n",
    "    df = df.copy()\n",
    "    for col in df.columns:\n",
    "        df[col] = (df[col] - df[col].mean())\n",
    "    return df"
   ]
  },
  {
   "cell_type": "code",
   "execution_count": 9,
   "id": "da9fb31e-7061-4685-828f-202ec6f195cd",
   "metadata": {},
   "outputs": [],
   "source": [
    "bigfoot_num = pd.DataFrame(calculate_zscore(fill_missing(bigfoot[numeric_cols])))\n",
    "bigfoot_cat = center_columns(normalize_column_modality(bigfoot[cat_cols]))\n",
    "bigfoot_fill = pd.concat([bigfoot_num, bigfoot_cat], axis=1)"
   ]
  },
  {
   "cell_type": "code",
   "execution_count": 10,
   "id": "dd65108e-9cfc-4336-be2c-4e5cd2b50918",
   "metadata": {},
   "outputs": [
    {
     "data": {
      "image/png": "[encoded data removed]",
      "text/plain": [
       "<Figure size 640x480 with 2 Axes>"
      ]
     },
     "metadata": {},
     "output_type": "display_data"
    }
   ],
   "source": [
    "corr = bigfoot_fill[features].corr()\n",
    "sns.heatmap(corr, cmap=\"coolwarm\")\n",
    "plt.show()"
   ]
  },
  {
   "cell_type": "code",
   "execution_count": 11,
   "id": "a999838b-e2a9-4053-8f7d-550dec15ad64",
   "metadata": {},
   "outputs": [
    {
     "data": {
      "text/plain": [
       "summer               -0.005061\n",
       "winter               -0.006026\n",
       "fall                  0.012547\n",
       "spring               -0.010401\n",
       "rain                  0.033324\n",
       "snow                  0.008999\n",
       "r                    -0.062844\n",
       "theta                 0.021332\n",
       "latitude             -0.077027\n",
       "longitude             0.055906\n",
       "temperature_mid       0.019390\n",
       "humidity              0.006955\n",
       "cloud_cover           0.034737\n",
       "moon_phase            0.008743\n",
       "precip_intensity      0.003806\n",
       "precip_probability    0.030528\n",
       "pressure              0.024270\n",
       "uv_index              0.005635\n",
       "visibility           -0.005693\n",
       "wind_bearing         -0.043205\n",
       "wind_speed            0.086845\n",
       "year                 -0.150384\n",
       "month                 0.012335\n",
       "day                  -0.003229\n",
       "class_A_B             1.000000\n",
       "Name: class_A_B, dtype: float64"
      ]
     },
     "execution_count": 11,
     "metadata": {},
     "output_type": "execute_result"
    }
   ],
   "source": [
    "corr[\"class_A_B\"]"
   ]
  },
  {
   "cell_type": "code",
   "execution_count": 12,
   "id": "cadb4d6a-2599-41f2-87f5-1ffc50ef607c",
   "metadata": {},
   "outputs": [
    {
     "data": {
      "text/plain": [
       "rain                  0.033324\n",
       "r                    -0.062844\n",
       "theta                 0.021332\n",
       "latitude             -0.077027\n",
       "longitude             0.055906\n",
       "cloud_cover           0.034737\n",
       "precip_probability    0.030528\n",
       "pressure              0.024270\n",
       "wind_bearing         -0.043205\n",
       "wind_speed            0.086845\n",
       "year                 -0.150384\n",
       "class_A_B             1.000000\n",
       "Name: class_A_B, dtype: float64"
      ]
     },
     "execution_count": 12,
     "metadata": {},
     "output_type": "execute_result"
    }
   ],
   "source": [
    "corr[\"class_A_B\"][corr[abs(corr[\"class_A_B\"])> 0.02].index]"
   ]
  }
 ],
 "metadata": {
  "kernelspec": {
   "display_name": "Python 3 (ipykernel)",
   "language": "python",
   "name": "python3"
  },
  "language_info": {
   "codemirror_mode": {
    "name": "ipython",
    "version": 3
   },
   "file_extension": ".py",
   "mimetype": "text/x-python",
   "name": "python",
   "nbconvert_exporter": "python",
   "pygments_lexer": "ipython3",
   "version": "3.9.13"
  },
  "toc-autonumbering": true,
  "toc-showtags": false
 },
 "nbformat": 4,
 "nbformat_minor": 5
}
